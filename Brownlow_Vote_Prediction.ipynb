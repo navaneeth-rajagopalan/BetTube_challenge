{
  "nbformat": 4,
  "nbformat_minor": 0,
  "metadata": {
    "colab": {
      "name": "Copy of Brownlow Vote Prediction.ipynb",
      "provenance": [],
      "collapsed_sections": [
        "6Es06xGmyrnf",
        "HMNBGT31bmia",
        "OqOJnS5E-z7b",
        "ILbQYNXJ-9qs",
        "_z4bn93wBnzv",
        "_JTkUU2kDOxE",
        "kcr315MpHp3e",
        "cyMiW641INjI",
        "nmsD6muoI-_c",
        "oSBBsX18Jtsp",
        "fFVpD9xiKAD4",
        "16ueR3qhKWew",
        "qf-hq5OOLM2t",
        "CRkWUoC_LrS8",
        "dm9w4TV7MLc-",
        "jdJjsZBqMlLR",
        "lf-W5I60M1bl",
        "2Tx8VJCkNKC6",
        "y_R8Z2l0Nl8U",
        "id7q_Gv6OJ3o",
        "ADZljwqCOgFw",
        "d4W-iPMpO8GL",
        "4rZ8toBJPVJO",
        "mibMnY97Qi4u",
        "1g5xQUJgFuvQ",
        "XOd1odHVYUiC"
      ],
      "toc_visible": true
    },
    "kernelspec": {
      "name": "python3",
      "display_name": "Python 3"
    }
  },
  "cells": [
    {
      "cell_type": "markdown",
      "metadata": {
        "id": "d5iUsCO6yloB"
      },
      "source": [
        "# Load Data"
      ]
    },
    {
      "cell_type": "code",
      "metadata": {
        "id": "6u9zW4AAjx_6"
      },
      "source": [
        "import pandas as pd\r\n",
        "pd.options.mode.chained_assignment = None "
      ],
      "execution_count": 1,
      "outputs": []
    },
    {
      "cell_type": "code",
      "metadata": {
        "id": "GChcO8Vek_a7"
      },
      "source": [
        "AFL_data = pd.read_csv(\"RawData.csv\")"
      ],
      "execution_count": 2,
      "outputs": []
    },
    {
      "cell_type": "code",
      "metadata": {
        "colab": {
          "base_uri": "https://localhost:8080/",
          "height": 417
        },
        "id": "jebya_7dlG2z",
        "outputId": "79d8e835-6df3-48a0-8074-60e13b1c0686"
      },
      "source": [
        "AFL_data.head()"
      ],
      "execution_count": 3,
      "outputs": [
        {
          "output_type": "execute_result",
          "data": {
            "text/html": [
              "<div>\n",
              "<style scoped>\n",
              "    .dataframe tbody tr th:only-of-type {\n",
              "        vertical-align: middle;\n",
              "    }\n",
              "\n",
              "    .dataframe tbody tr th {\n",
              "        vertical-align: top;\n",
              "    }\n",
              "\n",
              "    .dataframe thead th {\n",
              "        text-align: right;\n",
              "    }\n",
              "</style>\n",
              "<table border=\"1\" class=\"dataframe\">\n",
              "  <thead>\n",
              "    <tr style=\"text-align: right;\">\n",
              "      <th></th>\n",
              "      <th>Date</th>\n",
              "      <th>Name</th>\n",
              "      <th>Team</th>\n",
              "      <th>Season</th>\n",
              "      <th>Round</th>\n",
              "      <th>Home Team</th>\n",
              "      <th>Away Team</th>\n",
              "      <th>Home Score</th>\n",
              "      <th>Away Score</th>\n",
              "      <th>Margin</th>\n",
              "      <th>Disposals</th>\n",
              "      <th>Kicks</th>\n",
              "      <th>Marks</th>\n",
              "      <th>Handballs</th>\n",
              "      <th>Goals</th>\n",
              "      <th>Behinds</th>\n",
              "      <th>Hitouts</th>\n",
              "      <th>Tackles</th>\n",
              "      <th>Rebounds</th>\n",
              "      <th>Inside 50s</th>\n",
              "      <th>Clearances</th>\n",
              "      <th>Clangers</th>\n",
              "      <th>Frees For</th>\n",
              "      <th>Frees Against</th>\n",
              "      <th>Contested Pos</th>\n",
              "      <th>Uncontested Pos</th>\n",
              "      <th>Contested Marks</th>\n",
              "      <th>Marks Inside 50</th>\n",
              "      <th>One Percenters</th>\n",
              "      <th>Goal Assists</th>\n",
              "      <th>Brownlow Votes</th>\n",
              "      <th>TOG</th>\n",
              "    </tr>\n",
              "  </thead>\n",
              "  <tbody>\n",
              "    <tr>\n",
              "      <th>0</th>\n",
              "      <td>2019-09-28 00:00:00</td>\n",
              "      <td>Zac Williams</td>\n",
              "      <td>Greater Western Sydney</td>\n",
              "      <td>2019.0</td>\n",
              "      <td>GF</td>\n",
              "      <td>Richmond</td>\n",
              "      <td>Greater Western Sydney</td>\n",
              "      <td>114</td>\n",
              "      <td>25</td>\n",
              "      <td>89</td>\n",
              "      <td>21.0</td>\n",
              "      <td>11.0</td>\n",
              "      <td>4.0</td>\n",
              "      <td>10.0</td>\n",
              "      <td>0.0</td>\n",
              "      <td>0.0</td>\n",
              "      <td>0.0</td>\n",
              "      <td>5.0</td>\n",
              "      <td>1.0</td>\n",
              "      <td>3.0</td>\n",
              "      <td>3.0</td>\n",
              "      <td>4.0</td>\n",
              "      <td>0.0</td>\n",
              "      <td>0.0</td>\n",
              "      <td>7.0</td>\n",
              "      <td>13.0</td>\n",
              "      <td>0.0</td>\n",
              "      <td>1.0</td>\n",
              "      <td>0.0</td>\n",
              "      <td>0.0</td>\n",
              "      <td>0.0</td>\n",
              "      <td>68</td>\n",
              "    </tr>\n",
              "    <tr>\n",
              "      <th>1</th>\n",
              "      <td>2019-09-28 00:00:00</td>\n",
              "      <td>Lachie Whitfield</td>\n",
              "      <td>Greater Western Sydney</td>\n",
              "      <td>2019.0</td>\n",
              "      <td>GF</td>\n",
              "      <td>Richmond</td>\n",
              "      <td>Greater Western Sydney</td>\n",
              "      <td>114</td>\n",
              "      <td>25</td>\n",
              "      <td>89</td>\n",
              "      <td>14.0</td>\n",
              "      <td>12.0</td>\n",
              "      <td>3.0</td>\n",
              "      <td>2.0</td>\n",
              "      <td>0.0</td>\n",
              "      <td>0.0</td>\n",
              "      <td>0.0</td>\n",
              "      <td>1.0</td>\n",
              "      <td>5.0</td>\n",
              "      <td>2.0</td>\n",
              "      <td>3.0</td>\n",
              "      <td>3.0</td>\n",
              "      <td>0.0</td>\n",
              "      <td>1.0</td>\n",
              "      <td>4.0</td>\n",
              "      <td>9.0</td>\n",
              "      <td>0.0</td>\n",
              "      <td>0.0</td>\n",
              "      <td>1.0</td>\n",
              "      <td>0.0</td>\n",
              "      <td>0.0</td>\n",
              "      <td>91</td>\n",
              "    </tr>\n",
              "    <tr>\n",
              "      <th>2</th>\n",
              "      <td>2019-09-28 00:00:00</td>\n",
              "      <td>Adam Tomlinson</td>\n",
              "      <td>Greater Western Sydney</td>\n",
              "      <td>2019.0</td>\n",
              "      <td>GF</td>\n",
              "      <td>Richmond</td>\n",
              "      <td>Greater Western Sydney</td>\n",
              "      <td>114</td>\n",
              "      <td>25</td>\n",
              "      <td>89</td>\n",
              "      <td>17.0</td>\n",
              "      <td>11.0</td>\n",
              "      <td>6.0</td>\n",
              "      <td>6.0</td>\n",
              "      <td>0.0</td>\n",
              "      <td>0.0</td>\n",
              "      <td>0.0</td>\n",
              "      <td>0.0</td>\n",
              "      <td>2.0</td>\n",
              "      <td>2.0</td>\n",
              "      <td>1.0</td>\n",
              "      <td>3.0</td>\n",
              "      <td>0.0</td>\n",
              "      <td>1.0</td>\n",
              "      <td>6.0</td>\n",
              "      <td>11.0</td>\n",
              "      <td>0.0</td>\n",
              "      <td>0.0</td>\n",
              "      <td>1.0</td>\n",
              "      <td>0.0</td>\n",
              "      <td>0.0</td>\n",
              "      <td>83</td>\n",
              "    </tr>\n",
              "    <tr>\n",
              "      <th>3</th>\n",
              "      <td>2019-09-28 00:00:00</td>\n",
              "      <td>Sam Taylor</td>\n",
              "      <td>Greater Western Sydney</td>\n",
              "      <td>2019.0</td>\n",
              "      <td>GF</td>\n",
              "      <td>Richmond</td>\n",
              "      <td>Greater Western Sydney</td>\n",
              "      <td>114</td>\n",
              "      <td>25</td>\n",
              "      <td>89</td>\n",
              "      <td>14.0</td>\n",
              "      <td>6.0</td>\n",
              "      <td>4.0</td>\n",
              "      <td>8.0</td>\n",
              "      <td>0.0</td>\n",
              "      <td>0.0</td>\n",
              "      <td>0.0</td>\n",
              "      <td>1.0</td>\n",
              "      <td>4.0</td>\n",
              "      <td>0.0</td>\n",
              "      <td>0.0</td>\n",
              "      <td>2.0</td>\n",
              "      <td>1.0</td>\n",
              "      <td>0.0</td>\n",
              "      <td>6.0</td>\n",
              "      <td>8.0</td>\n",
              "      <td>1.0</td>\n",
              "      <td>0.0</td>\n",
              "      <td>9.0</td>\n",
              "      <td>0.0</td>\n",
              "      <td>0.0</td>\n",
              "      <td>91</td>\n",
              "    </tr>\n",
              "    <tr>\n",
              "      <th>4</th>\n",
              "      <td>2019-09-28 00:00:00</td>\n",
              "      <td>Tim Taranto</td>\n",
              "      <td>Greater Western Sydney</td>\n",
              "      <td>2019.0</td>\n",
              "      <td>GF</td>\n",
              "      <td>Richmond</td>\n",
              "      <td>Greater Western Sydney</td>\n",
              "      <td>114</td>\n",
              "      <td>25</td>\n",
              "      <td>89</td>\n",
              "      <td>30.0</td>\n",
              "      <td>14.0</td>\n",
              "      <td>5.0</td>\n",
              "      <td>16.0</td>\n",
              "      <td>0.0</td>\n",
              "      <td>0.0</td>\n",
              "      <td>0.0</td>\n",
              "      <td>7.0</td>\n",
              "      <td>3.0</td>\n",
              "      <td>4.0</td>\n",
              "      <td>5.0</td>\n",
              "      <td>4.0</td>\n",
              "      <td>3.0</td>\n",
              "      <td>1.0</td>\n",
              "      <td>15.0</td>\n",
              "      <td>18.0</td>\n",
              "      <td>0.0</td>\n",
              "      <td>0.0</td>\n",
              "      <td>1.0</td>\n",
              "      <td>0.0</td>\n",
              "      <td>0.0</td>\n",
              "      <td>80</td>\n",
              "    </tr>\n",
              "  </tbody>\n",
              "</table>\n",
              "</div>"
            ],
            "text/plain": [
              "                  Date              Name  ... Brownlow Votes  TOG\n",
              "0  2019-09-28 00:00:00      Zac Williams  ...            0.0   68\n",
              "1  2019-09-28 00:00:00  Lachie Whitfield  ...            0.0   91\n",
              "2  2019-09-28 00:00:00    Adam Tomlinson  ...            0.0   83\n",
              "3  2019-09-28 00:00:00        Sam Taylor  ...            0.0   91\n",
              "4  2019-09-28 00:00:00       Tim Taranto  ...            0.0   80\n",
              "\n",
              "[5 rows x 32 columns]"
            ]
          },
          "metadata": {
            "tags": []
          },
          "execution_count": 3
        }
      ]
    },
    {
      "cell_type": "code",
      "metadata": {
        "id": "gWxwZIgW6ZB1"
      },
      "source": [
        "LABEL_FIELD_NAME = \"Brownlow Votes\""
      ],
      "execution_count": 4,
      "outputs": []
    },
    {
      "cell_type": "markdown",
      "metadata": {
        "id": "naLDjV4XaBZQ"
      },
      "source": [
        "# Data Cleaning"
      ]
    },
    {
      "cell_type": "code",
      "metadata": {
        "colab": {
          "base_uri": "https://localhost:8080/",
          "height": 101
        },
        "id": "too0KwHkaFG0",
        "outputId": "0ca3a3ba-ccaf-4c4d-b4d7-9476fd5abf46"
      },
      "source": [
        "AFL_data[AFL_data.isnull().any(axis=1)]"
      ],
      "execution_count": 5,
      "outputs": [
        {
          "output_type": "execute_result",
          "data": {
            "text/html": [
              "<div>\n",
              "<style scoped>\n",
              "    .dataframe tbody tr th:only-of-type {\n",
              "        vertical-align: middle;\n",
              "    }\n",
              "\n",
              "    .dataframe tbody tr th {\n",
              "        vertical-align: top;\n",
              "    }\n",
              "\n",
              "    .dataframe thead th {\n",
              "        text-align: right;\n",
              "    }\n",
              "</style>\n",
              "<table border=\"1\" class=\"dataframe\">\n",
              "  <thead>\n",
              "    <tr style=\"text-align: right;\">\n",
              "      <th></th>\n",
              "      <th>Date</th>\n",
              "      <th>Name</th>\n",
              "      <th>Team</th>\n",
              "      <th>Season</th>\n",
              "      <th>Round</th>\n",
              "      <th>Home Team</th>\n",
              "      <th>Away Team</th>\n",
              "      <th>Home Score</th>\n",
              "      <th>Away Score</th>\n",
              "      <th>Margin</th>\n",
              "      <th>Disposals</th>\n",
              "      <th>Kicks</th>\n",
              "      <th>Marks</th>\n",
              "      <th>Handballs</th>\n",
              "      <th>Goals</th>\n",
              "      <th>Behinds</th>\n",
              "      <th>Hitouts</th>\n",
              "      <th>Tackles</th>\n",
              "      <th>Rebounds</th>\n",
              "      <th>Inside 50s</th>\n",
              "      <th>Clearances</th>\n",
              "      <th>Clangers</th>\n",
              "      <th>Frees For</th>\n",
              "      <th>Frees Against</th>\n",
              "      <th>Contested Pos</th>\n",
              "      <th>Uncontested Pos</th>\n",
              "      <th>Contested Marks</th>\n",
              "      <th>Marks Inside 50</th>\n",
              "      <th>One Percenters</th>\n",
              "      <th>Goal Assists</th>\n",
              "      <th>Brownlow Votes</th>\n",
              "      <th>TOG</th>\n",
              "    </tr>\n",
              "  </thead>\n",
              "  <tbody>\n",
              "  </tbody>\n",
              "</table>\n",
              "</div>"
            ],
            "text/plain": [
              "Empty DataFrame\n",
              "Columns: [Date, Name, Team, Season, Round, Home Team, Away Team, Home Score, Away Score, Margin, Disposals, Kicks, Marks, Handballs, Goals, Behinds, Hitouts, Tackles, Rebounds, Inside 50s, Clearances, Clangers, Frees For, Frees Against, Contested Pos, Uncontested Pos, Contested Marks, Marks Inside 50, One Percenters, Goal Assists, Brownlow Votes, TOG]\n",
              "Index: []"
            ]
          },
          "metadata": {
            "tags": []
          },
          "execution_count": 5
        }
      ]
    },
    {
      "cell_type": "code",
      "metadata": {
        "colab": {
          "base_uri": "https://localhost:8080/",
          "height": 101
        },
        "id": "eODjHKovaFxI",
        "outputId": "a72c6e0a-c136-421d-f353-9fec45c45666"
      },
      "source": [
        "AFL_data[AFL_data.isna().any(axis=1)]"
      ],
      "execution_count": 6,
      "outputs": [
        {
          "output_type": "execute_result",
          "data": {
            "text/html": [
              "<div>\n",
              "<style scoped>\n",
              "    .dataframe tbody tr th:only-of-type {\n",
              "        vertical-align: middle;\n",
              "    }\n",
              "\n",
              "    .dataframe tbody tr th {\n",
              "        vertical-align: top;\n",
              "    }\n",
              "\n",
              "    .dataframe thead th {\n",
              "        text-align: right;\n",
              "    }\n",
              "</style>\n",
              "<table border=\"1\" class=\"dataframe\">\n",
              "  <thead>\n",
              "    <tr style=\"text-align: right;\">\n",
              "      <th></th>\n",
              "      <th>Date</th>\n",
              "      <th>Name</th>\n",
              "      <th>Team</th>\n",
              "      <th>Season</th>\n",
              "      <th>Round</th>\n",
              "      <th>Home Team</th>\n",
              "      <th>Away Team</th>\n",
              "      <th>Home Score</th>\n",
              "      <th>Away Score</th>\n",
              "      <th>Margin</th>\n",
              "      <th>Disposals</th>\n",
              "      <th>Kicks</th>\n",
              "      <th>Marks</th>\n",
              "      <th>Handballs</th>\n",
              "      <th>Goals</th>\n",
              "      <th>Behinds</th>\n",
              "      <th>Hitouts</th>\n",
              "      <th>Tackles</th>\n",
              "      <th>Rebounds</th>\n",
              "      <th>Inside 50s</th>\n",
              "      <th>Clearances</th>\n",
              "      <th>Clangers</th>\n",
              "      <th>Frees For</th>\n",
              "      <th>Frees Against</th>\n",
              "      <th>Contested Pos</th>\n",
              "      <th>Uncontested Pos</th>\n",
              "      <th>Contested Marks</th>\n",
              "      <th>Marks Inside 50</th>\n",
              "      <th>One Percenters</th>\n",
              "      <th>Goal Assists</th>\n",
              "      <th>Brownlow Votes</th>\n",
              "      <th>TOG</th>\n",
              "    </tr>\n",
              "  </thead>\n",
              "  <tbody>\n",
              "  </tbody>\n",
              "</table>\n",
              "</div>"
            ],
            "text/plain": [
              "Empty DataFrame\n",
              "Columns: [Date, Name, Team, Season, Round, Home Team, Away Team, Home Score, Away Score, Margin, Disposals, Kicks, Marks, Handballs, Goals, Behinds, Hitouts, Tackles, Rebounds, Inside 50s, Clearances, Clangers, Frees For, Frees Against, Contested Pos, Uncontested Pos, Contested Marks, Marks Inside 50, One Percenters, Goal Assists, Brownlow Votes, TOG]\n",
              "Index: []"
            ]
          },
          "metadata": {
            "tags": []
          },
          "execution_count": 6
        }
      ]
    },
    {
      "cell_type": "code",
      "metadata": {
        "colab": {
          "base_uri": "https://localhost:8080/"
        },
        "id": "ZmTt9Z26ouYQ",
        "outputId": "efd68318-9585-42c8-9088-49787901955a"
      },
      "source": [
        "AFL_data.info()"
      ],
      "execution_count": 7,
      "outputs": [
        {
          "output_type": "stream",
          "text": [
            "<class 'pandas.core.frame.DataFrame'>\n",
            "RangeIndex: 146607 entries, 0 to 146606\n",
            "Data columns (total 32 columns):\n",
            " #   Column           Non-Null Count   Dtype  \n",
            "---  ------           --------------   -----  \n",
            " 0   Date             146607 non-null  object \n",
            " 1   Name             146607 non-null  object \n",
            " 2   Team             146607 non-null  object \n",
            " 3   Season           146607 non-null  float64\n",
            " 4   Round            146607 non-null  object \n",
            " 5   Home Team        146607 non-null  object \n",
            " 6   Away Team        146607 non-null  object \n",
            " 7   Home Score       146607 non-null  int64  \n",
            " 8   Away Score       146607 non-null  int64  \n",
            " 9   Margin           146607 non-null  int64  \n",
            " 10  Disposals        146607 non-null  float64\n",
            " 11  Kicks            146607 non-null  float64\n",
            " 12  Marks            146607 non-null  float64\n",
            " 13  Handballs        146607 non-null  float64\n",
            " 14  Goals            146607 non-null  float64\n",
            " 15  Behinds          146607 non-null  float64\n",
            " 16  Hitouts          146607 non-null  float64\n",
            " 17  Tackles          146607 non-null  float64\n",
            " 18  Rebounds         146607 non-null  float64\n",
            " 19  Inside 50s       146607 non-null  float64\n",
            " 20  Clearances       146607 non-null  float64\n",
            " 21  Clangers         146607 non-null  float64\n",
            " 22  Frees For        146607 non-null  float64\n",
            " 23  Frees Against    146607 non-null  float64\n",
            " 24  Contested Pos    146607 non-null  float64\n",
            " 25  Uncontested Pos  146607 non-null  float64\n",
            " 26  Contested Marks  146607 non-null  float64\n",
            " 27  Marks Inside 50  146607 non-null  float64\n",
            " 28  One Percenters   146607 non-null  float64\n",
            " 29  Goal Assists     146607 non-null  float64\n",
            " 30  Brownlow Votes   146607 non-null  float64\n",
            " 31  TOG              146607 non-null  int64  \n",
            "dtypes: float64(22), int64(4), object(6)\n",
            "memory usage: 35.8+ MB\n"
          ],
          "name": "stdout"
        }
      ]
    },
    {
      "cell_type": "markdown",
      "metadata": {
        "id": "Vkf6NlF9ZZSU"
      },
      "source": [
        "Dataset does not contain any null or empty data values"
      ]
    },
    {
      "cell_type": "markdown",
      "metadata": {
        "id": "X7dsLXV5EjSv"
      },
      "source": [
        "# Test - Train Split\r\n",
        "\r\n",
        "Seasons 2003 - 2015: Training + Validation Data\r\n",
        "\r\n",
        "Seasons 2016 - 2019: Test Data"
      ]
    },
    {
      "cell_type": "code",
      "metadata": {
        "id": "lsQ8XXwDE9z6"
      },
      "source": [
        "total_size = AFL_data.shape[0]"
      ],
      "execution_count": 8,
      "outputs": []
    },
    {
      "cell_type": "code",
      "metadata": {
        "id": "WEFTGTtwFHX8"
      },
      "source": [
        "# Select all rows whose seasons is from 2003 to 2015\r\n",
        "AFL_Train = AFL_data.loc[AFL_data['Season'].isin([year for year in range(2003, 2016)])]"
      ],
      "execution_count": 9,
      "outputs": []
    },
    {
      "cell_type": "code",
      "metadata": {
        "id": "sdujSOCYFxrS"
      },
      "source": [
        "# Select all rows whose seasons is from 2016 to 2019\r\n",
        "AFL_Test = AFL_data.loc[AFL_data['Season'].isin([year for year in range(2016, 2020)])]"
      ],
      "execution_count": 10,
      "outputs": []
    },
    {
      "cell_type": "code",
      "metadata": {
        "id": "VU7J-sHrGNd6"
      },
      "source": [
        "train_size = AFL_Train.shape[0]\r\n",
        "test_size = AFL_Test.shape[0]"
      ],
      "execution_count": 11,
      "outputs": []
    },
    {
      "cell_type": "code",
      "metadata": {
        "id": "ldHfHRiCGIar"
      },
      "source": [
        "# Check split for any data loss\r\n",
        "assert total_size == (train_size + test_size)"
      ],
      "execution_count": 12,
      "outputs": []
    },
    {
      "cell_type": "markdown",
      "metadata": {
        "id": "6Es06xGmyrnf"
      },
      "source": [
        "# Feature Engineering - 1\r\n",
        "\r\n",
        "## Feature Engineering for Data Visualization"
      ]
    },
    {
      "cell_type": "code",
      "metadata": {
        "id": "rHGosNMTyxny"
      },
      "source": [
        "def check_hometeam(row):\r\n",
        "    return 1 if row[\"Team\"] == row[\"Home Team\"] else 0"
      ],
      "execution_count": 13,
      "outputs": []
    },
    {
      "cell_type": "code",
      "metadata": {
        "id": "Hl99vHiDy6nc"
      },
      "source": [
        "def get_team_score(row):\r\n",
        "    return row[\"Home Score\"] if row[\"Team\"] == row[\"Home Team\"] else row[\"Away Score\"]"
      ],
      "execution_count": 14,
      "outputs": []
    },
    {
      "cell_type": "code",
      "metadata": {
        "id": "0Bcwvt_a5zJw"
      },
      "source": [
        "def get_team_margin(row):\r\n",
        "    return row[\"Margin\"] if row[\"Team\"] == row[\"Home Team\"] else -row[\"Margin\"]"
      ],
      "execution_count": 15,
      "outputs": []
    },
    {
      "cell_type": "code",
      "metadata": {
        "id": "8ktQLv5Au4Jh"
      },
      "source": [
        "AFL_Train[\"Is_Home_Team\"] = AFL_Train.apply(check_hometeam, axis = 1)"
      ],
      "execution_count": 16,
      "outputs": []
    },
    {
      "cell_type": "code",
      "metadata": {
        "id": "RlZ-hpmbvCg2"
      },
      "source": [
        "AFL_Train[\"Team_Score\"] = AFL_Train.apply(get_team_score, axis = 1)"
      ],
      "execution_count": 17,
      "outputs": []
    },
    {
      "cell_type": "code",
      "metadata": {
        "id": "H-cHQ29rvHBl"
      },
      "source": [
        "AFL_Train[\"Team_Margin\"] = AFL_Train.apply(get_team_margin, axis = 1)"
      ],
      "execution_count": 18,
      "outputs": []
    },
    {
      "cell_type": "code",
      "metadata": {
        "colab": {
          "base_uri": "https://localhost:8080/",
          "height": 0
        },
        "id": "Rtd_rihZ0oCO",
        "outputId": "5f8cb909-8bf2-4d21-aa1b-cc00134782d4"
      },
      "source": [
        "AFL_Train.head()"
      ],
      "execution_count": 19,
      "outputs": [
        {
          "output_type": "execute_result",
          "data": {
            "text/html": [
              "<div>\n",
              "<style scoped>\n",
              "    .dataframe tbody tr th:only-of-type {\n",
              "        vertical-align: middle;\n",
              "    }\n",
              "\n",
              "    .dataframe tbody tr th {\n",
              "        vertical-align: top;\n",
              "    }\n",
              "\n",
              "    .dataframe thead th {\n",
              "        text-align: right;\n",
              "    }\n",
              "</style>\n",
              "<table border=\"1\" class=\"dataframe\">\n",
              "  <thead>\n",
              "    <tr style=\"text-align: right;\">\n",
              "      <th></th>\n",
              "      <th>Date</th>\n",
              "      <th>Name</th>\n",
              "      <th>Team</th>\n",
              "      <th>Season</th>\n",
              "      <th>Round</th>\n",
              "      <th>Home Team</th>\n",
              "      <th>Away Team</th>\n",
              "      <th>Home Score</th>\n",
              "      <th>Away Score</th>\n",
              "      <th>Margin</th>\n",
              "      <th>Disposals</th>\n",
              "      <th>Kicks</th>\n",
              "      <th>Marks</th>\n",
              "      <th>Handballs</th>\n",
              "      <th>Goals</th>\n",
              "      <th>Behinds</th>\n",
              "      <th>Hitouts</th>\n",
              "      <th>Tackles</th>\n",
              "      <th>Rebounds</th>\n",
              "      <th>Inside 50s</th>\n",
              "      <th>Clearances</th>\n",
              "      <th>Clangers</th>\n",
              "      <th>Frees For</th>\n",
              "      <th>Frees Against</th>\n",
              "      <th>Contested Pos</th>\n",
              "      <th>Uncontested Pos</th>\n",
              "      <th>Contested Marks</th>\n",
              "      <th>Marks Inside 50</th>\n",
              "      <th>One Percenters</th>\n",
              "      <th>Goal Assists</th>\n",
              "      <th>Brownlow Votes</th>\n",
              "      <th>TOG</th>\n",
              "      <th>Is_Home_Team</th>\n",
              "      <th>Team_Score</th>\n",
              "      <th>Team_Margin</th>\n",
              "    </tr>\n",
              "  </thead>\n",
              "  <tbody>\n",
              "    <tr>\n",
              "      <th>27412</th>\n",
              "      <td>2015-07-18 00:00:00</td>\n",
              "      <td>Zac Williams</td>\n",
              "      <td>Greater Western Sydney</td>\n",
              "      <td>2015.0</td>\n",
              "      <td>16</td>\n",
              "      <td>Gold Coast</td>\n",
              "      <td>Greater Western Sydney</td>\n",
              "      <td>79</td>\n",
              "      <td>94</td>\n",
              "      <td>-15</td>\n",
              "      <td>20.0</td>\n",
              "      <td>12.0</td>\n",
              "      <td>7.0</td>\n",
              "      <td>8.0</td>\n",
              "      <td>0.0</td>\n",
              "      <td>0.0</td>\n",
              "      <td>0.0</td>\n",
              "      <td>1.0</td>\n",
              "      <td>2.0</td>\n",
              "      <td>2.0</td>\n",
              "      <td>1.0</td>\n",
              "      <td>1.0</td>\n",
              "      <td>0.0</td>\n",
              "      <td>1.0</td>\n",
              "      <td>3.0</td>\n",
              "      <td>17.0</td>\n",
              "      <td>0.0</td>\n",
              "      <td>0.0</td>\n",
              "      <td>1.0</td>\n",
              "      <td>0.0</td>\n",
              "      <td>0.0</td>\n",
              "      <td>81</td>\n",
              "      <td>0</td>\n",
              "      <td>94</td>\n",
              "      <td>15</td>\n",
              "    </tr>\n",
              "    <tr>\n",
              "      <th>27413</th>\n",
              "      <td>2015-07-18 00:00:00</td>\n",
              "      <td>Lachie Whitfield</td>\n",
              "      <td>Greater Western Sydney</td>\n",
              "      <td>2015.0</td>\n",
              "      <td>16</td>\n",
              "      <td>Gold Coast</td>\n",
              "      <td>Greater Western Sydney</td>\n",
              "      <td>79</td>\n",
              "      <td>94</td>\n",
              "      <td>-15</td>\n",
              "      <td>17.0</td>\n",
              "      <td>13.0</td>\n",
              "      <td>8.0</td>\n",
              "      <td>4.0</td>\n",
              "      <td>0.0</td>\n",
              "      <td>1.0</td>\n",
              "      <td>0.0</td>\n",
              "      <td>0.0</td>\n",
              "      <td>1.0</td>\n",
              "      <td>3.0</td>\n",
              "      <td>1.0</td>\n",
              "      <td>2.0</td>\n",
              "      <td>0.0</td>\n",
              "      <td>2.0</td>\n",
              "      <td>2.0</td>\n",
              "      <td>15.0</td>\n",
              "      <td>0.0</td>\n",
              "      <td>0.0</td>\n",
              "      <td>1.0</td>\n",
              "      <td>1.0</td>\n",
              "      <td>0.0</td>\n",
              "      <td>91</td>\n",
              "      <td>0</td>\n",
              "      <td>94</td>\n",
              "      <td>15</td>\n",
              "    </tr>\n",
              "    <tr>\n",
              "      <th>27414</th>\n",
              "      <td>2015-07-18 00:00:00</td>\n",
              "      <td>Callan Ward</td>\n",
              "      <td>Greater Western Sydney</td>\n",
              "      <td>2015.0</td>\n",
              "      <td>16</td>\n",
              "      <td>Gold Coast</td>\n",
              "      <td>Greater Western Sydney</td>\n",
              "      <td>79</td>\n",
              "      <td>94</td>\n",
              "      <td>-15</td>\n",
              "      <td>30.0</td>\n",
              "      <td>17.0</td>\n",
              "      <td>8.0</td>\n",
              "      <td>13.0</td>\n",
              "      <td>2.0</td>\n",
              "      <td>2.0</td>\n",
              "      <td>5.0</td>\n",
              "      <td>5.0</td>\n",
              "      <td>1.0</td>\n",
              "      <td>4.0</td>\n",
              "      <td>9.0</td>\n",
              "      <td>4.0</td>\n",
              "      <td>1.0</td>\n",
              "      <td>1.0</td>\n",
              "      <td>15.0</td>\n",
              "      <td>17.0</td>\n",
              "      <td>2.0</td>\n",
              "      <td>2.0</td>\n",
              "      <td>0.0</td>\n",
              "      <td>0.0</td>\n",
              "      <td>1.0</td>\n",
              "      <td>82</td>\n",
              "      <td>0</td>\n",
              "      <td>94</td>\n",
              "      <td>15</td>\n",
              "    </tr>\n",
              "    <tr>\n",
              "      <th>27415</th>\n",
              "      <td>2015-07-18 00:00:00</td>\n",
              "      <td>Adam Treloar</td>\n",
              "      <td>Greater Western Sydney</td>\n",
              "      <td>2015.0</td>\n",
              "      <td>16</td>\n",
              "      <td>Gold Coast</td>\n",
              "      <td>Greater Western Sydney</td>\n",
              "      <td>79</td>\n",
              "      <td>94</td>\n",
              "      <td>-15</td>\n",
              "      <td>19.0</td>\n",
              "      <td>12.0</td>\n",
              "      <td>3.0</td>\n",
              "      <td>7.0</td>\n",
              "      <td>0.0</td>\n",
              "      <td>1.0</td>\n",
              "      <td>1.0</td>\n",
              "      <td>5.0</td>\n",
              "      <td>0.0</td>\n",
              "      <td>4.0</td>\n",
              "      <td>2.0</td>\n",
              "      <td>3.0</td>\n",
              "      <td>0.0</td>\n",
              "      <td>1.0</td>\n",
              "      <td>3.0</td>\n",
              "      <td>16.0</td>\n",
              "      <td>0.0</td>\n",
              "      <td>0.0</td>\n",
              "      <td>0.0</td>\n",
              "      <td>3.0</td>\n",
              "      <td>0.0</td>\n",
              "      <td>81</td>\n",
              "      <td>0</td>\n",
              "      <td>94</td>\n",
              "      <td>15</td>\n",
              "    </tr>\n",
              "    <tr>\n",
              "      <th>27416</th>\n",
              "      <td>2015-07-18 00:00:00</td>\n",
              "      <td>Adam Tomlinson</td>\n",
              "      <td>Greater Western Sydney</td>\n",
              "      <td>2015.0</td>\n",
              "      <td>16</td>\n",
              "      <td>Gold Coast</td>\n",
              "      <td>Greater Western Sydney</td>\n",
              "      <td>79</td>\n",
              "      <td>94</td>\n",
              "      <td>-15</td>\n",
              "      <td>18.0</td>\n",
              "      <td>13.0</td>\n",
              "      <td>9.0</td>\n",
              "      <td>5.0</td>\n",
              "      <td>0.0</td>\n",
              "      <td>0.0</td>\n",
              "      <td>0.0</td>\n",
              "      <td>0.0</td>\n",
              "      <td>2.0</td>\n",
              "      <td>2.0</td>\n",
              "      <td>0.0</td>\n",
              "      <td>0.0</td>\n",
              "      <td>0.0</td>\n",
              "      <td>0.0</td>\n",
              "      <td>5.0</td>\n",
              "      <td>13.0</td>\n",
              "      <td>0.0</td>\n",
              "      <td>0.0</td>\n",
              "      <td>6.0</td>\n",
              "      <td>0.0</td>\n",
              "      <td>0.0</td>\n",
              "      <td>94</td>\n",
              "      <td>0</td>\n",
              "      <td>94</td>\n",
              "      <td>15</td>\n",
              "    </tr>\n",
              "  </tbody>\n",
              "</table>\n",
              "</div>"
            ],
            "text/plain": [
              "                      Date              Name  ... Team_Score  Team_Margin\n",
              "27412  2015-07-18 00:00:00      Zac Williams  ...         94           15\n",
              "27413  2015-07-18 00:00:00  Lachie Whitfield  ...         94           15\n",
              "27414  2015-07-18 00:00:00       Callan Ward  ...         94           15\n",
              "27415  2015-07-18 00:00:00      Adam Treloar  ...         94           15\n",
              "27416  2015-07-18 00:00:00    Adam Tomlinson  ...         94           15\n",
              "\n",
              "[5 rows x 35 columns]"
            ]
          },
          "metadata": {
            "tags": []
          },
          "execution_count": 19
        }
      ]
    },
    {
      "cell_type": "code",
      "metadata": {
        "id": "679Zi-sf6HMK"
      },
      "source": [
        ""
      ],
      "execution_count": 19,
      "outputs": []
    },
    {
      "cell_type": "markdown",
      "metadata": {
        "id": "4ET591ypwVb0"
      },
      "source": [
        "# EDA - Exploratory Data Analysis\r\n",
        "\r\n",
        "Examining Class Distribution and any linear dependence with the Brownlow Votes"
      ]
    },
    {
      "cell_type": "code",
      "metadata": {
        "id": "wX-XHJhr4O_Z"
      },
      "source": [
        "import matplotlib.pyplot as plt\r\n",
        "%matplotlib inline\r\n",
        "import seaborn as sns"
      ],
      "execution_count": 20,
      "outputs": []
    },
    {
      "cell_type": "markdown",
      "metadata": {
        "id": "_IgOfpmKIAHU"
      },
      "source": [
        "## Class Distribution"
      ]
    },
    {
      "cell_type": "code",
      "metadata": {
        "colab": {
          "base_uri": "https://localhost:8080/"
        },
        "id": "xGixkpJMJbNf",
        "outputId": "9d867009-3649-47bd-c33a-00959f152628"
      },
      "source": [
        "class_distribution = AFL_Train.groupby([LABEL_FIELD_NAME]).size()\r\n",
        "print(class_distribution)"
      ],
      "execution_count": 21,
      "outputs": [
        {
          "output_type": "stream",
          "text": [
            "Brownlow Votes\n",
            "0.0    103017\n",
            "1.0      2386\n",
            "2.0      2386\n",
            "3.0      2386\n",
            "dtype: int64\n"
          ],
          "name": "stdout"
        }
      ]
    },
    {
      "cell_type": "code",
      "metadata": {
        "id": "qK_I-KD5aorX"
      },
      "source": [
        "class_proportions = {cls: class_distribution.loc[cls] for cls in range(4)}"
      ],
      "execution_count": 22,
      "outputs": []
    },
    {
      "cell_type": "code",
      "metadata": {
        "colab": {
          "base_uri": "https://localhost:8080/",
          "height": 297
        },
        "id": "kidVo0vEIG1q",
        "outputId": "840f25cd-8cf1-4a8c-d829-a6e35dd53ab5"
      },
      "source": [
        "sns.countplot(x = LABEL_FIELD_NAME, data = AFL_Train)"
      ],
      "execution_count": 23,
      "outputs": [
        {
          "output_type": "execute_result",
          "data": {
            "text/plain": [
              "<matplotlib.axes._subplots.AxesSubplot at 0x7fe9056a1160>"
            ]
          },
          "metadata": {
            "tags": []
          },
          "execution_count": 23
        },
        {
          "output_type": "display_data",
          "data": {
            "image/png": "[encoded data removed]",
            "text/plain": [
              "<Figure size 432x288 with 1 Axes>"
            ]
          },
          "metadata": {
            "tags": [],
            "needs_background": "light"
          }
        }
      ]
    },
    {
      "cell_type": "code",
      "metadata": {
        "colab": {
          "base_uri": "https://localhost:8080/"
        },
        "id": "CNdhLQS5acw8",
        "outputId": "fb6394a2-2790-470e-e095-1f0853bb988c"
      },
      "source": [
        "class_proportions"
      ],
      "execution_count": 24,
      "outputs": [
        {
          "output_type": "execute_result",
          "data": {
            "text/plain": [
              "{0: 103017, 1: 2386, 2: 2386, 3: 2386}"
            ]
          },
          "metadata": {
            "tags": []
          },
          "execution_count": 24
        }
      ]
    },
    {
      "cell_type": "markdown",
      "metadata": {
        "id": "HMNBGT31bmia"
      },
      "source": [
        "## Brownlow Votes vs Team Score"
      ]
    },
    {
      "cell_type": "code",
      "metadata": {
        "colab": {
          "base_uri": "https://localhost:8080/",
          "height": 0
        },
        "id": "bKsDVxuFbuVN",
        "outputId": "fbdb35e1-ef76-4d68-efe2-f26170e4f0f3"
      },
      "source": [
        "sns.catplot(x = LABEL_FIELD_NAME, y = \"Team_Score\", data = AFL_Train, kind=\"violin\")"
      ],
      "execution_count": 25,
      "outputs": [
        {
          "output_type": "execute_result",
          "data": {
            "text/plain": [
              "<seaborn.axisgrid.FacetGrid at 0x7fe9056a1c50>"
            ]
          },
          "metadata": {
            "tags": []
          },
          "execution_count": 25
        },
        {
          "output_type": "display_data",
          "data": {
            "image/png": "[encoded data removed]",
            "text/plain": [
              "<Figure size 360x360 with 1 Axes>"
            ]
          },
          "metadata": {
            "tags": [],
            "needs_background": "light"
          }
        }
      ]
    },
    {
      "cell_type": "markdown",
      "metadata": {
        "id": "JoUoQ9kcb2Jg"
      },
      "source": [
        "Inference: The Team Score seems important in identifying Brownlow Votes 0. Lower Team Score is generally associated with Brownlow Votes of 0."
      ]
    },
    {
      "cell_type": "markdown",
      "metadata": {
        "id": "OqOJnS5E-z7b"
      },
      "source": [
        "## Brownlow Votes vs Team Margin"
      ]
    },
    {
      "cell_type": "code",
      "metadata": {
        "colab": {
          "base_uri": "https://localhost:8080/",
          "height": 0
        },
        "id": "EoY3uRdG-h4V",
        "outputId": "368deafd-4aa6-470e-e8b9-60befb838744"
      },
      "source": [
        "sns.catplot(x = LABEL_FIELD_NAME, y = \"Team_Margin\", data = AFL_Train, kind=\"violin\")"
      ],
      "execution_count": 26,
      "outputs": [
        {
          "output_type": "execute_result",
          "data": {
            "text/plain": [
              "<seaborn.axisgrid.FacetGrid at 0x7fe8fa6f4e48>"
            ]
          },
          "metadata": {
            "tags": []
          },
          "execution_count": 26
        },
        {
          "output_type": "display_data",
          "data": {
            "image/png": "[encoded data removed]",
            "text/plain": [
              "<Figure size 360x360 with 1 Axes>"
            ]
          },
          "metadata": {
            "tags": [],
            "needs_background": "light"
          }
        }
      ]
    },
    {
      "cell_type": "markdown",
      "metadata": {
        "id": "2YhFLE6CAwX5"
      },
      "source": [
        "Inference: The Team Margin (calculated as player's team score - opponent's team score) has a significant contribution in identifying Brownlow Votes 0. Lower Team Margin is generally associated with Brownlow Votes of 0. While not so significant in classifing between Brownlow Votes 1, 2 or 3."
      ]
    },
    {
      "cell_type": "markdown",
      "metadata": {
        "id": "ILbQYNXJ-9qs"
      },
      "source": [
        "## Brownlow Votes vs Disposals"
      ]
    },
    {
      "cell_type": "code",
      "metadata": {
        "colab": {
          "base_uri": "https://localhost:8080/",
          "height": 0
        },
        "id": "QJa-WsH-4bLG",
        "outputId": "c7694c7c-bed4-4689-b623-549324277a4a"
      },
      "source": [
        "sns.catplot(x = LABEL_FIELD_NAME, y = \"Disposals\", data = AFL_Train, kind=\"violin\")"
      ],
      "execution_count": 27,
      "outputs": [
        {
          "output_type": "execute_result",
          "data": {
            "text/plain": [
              "<seaborn.axisgrid.FacetGrid at 0x7fe8f65969e8>"
            ]
          },
          "metadata": {
            "tags": []
          },
          "execution_count": 27
        },
        {
          "output_type": "display_data",
          "data": {
            "image/png": "[encoded data removed]",
            "text/plain": [
              "<Figure size 360x360 with 1 Axes>"
            ]
          },
          "metadata": {
            "tags": [],
            "needs_background": "light"
          }
        }
      ]
    },
    {
      "cell_type": "markdown",
      "metadata": {
        "id": "qxYgTtUUBLhb"
      },
      "source": [
        "Inference: The Disposals seems important in identifying each of the Brownlow Votes. Trend is: Higher the Disposals value, greater is the Brownlow Votes."
      ]
    },
    {
      "cell_type": "markdown",
      "metadata": {
        "id": "_z4bn93wBnzv"
      },
      "source": [
        "## Brownlow Votes vs Kicks"
      ]
    },
    {
      "cell_type": "code",
      "metadata": {
        "colab": {
          "base_uri": "https://localhost:8080/",
          "height": 0
        },
        "id": "B385tJhvBwcy",
        "outputId": "72d7946c-806b-4c3a-ae3e-f5a4dfdbc88e"
      },
      "source": [
        "sns.catplot(x = LABEL_FIELD_NAME, y = \"Kicks\", data = AFL_Train, kind=\"violin\")"
      ],
      "execution_count": 28,
      "outputs": [
        {
          "output_type": "execute_result",
          "data": {
            "text/plain": [
              "<seaborn.axisgrid.FacetGrid at 0x7fe8fa6a8eb8>"
            ]
          },
          "metadata": {
            "tags": []
          },
          "execution_count": 28
        },
        {
          "output_type": "display_data",
          "data": {
            "image/png": "[encoded data removed]",
            "text/plain": [
              "<Figure size 360x360 with 1 Axes>"
            ]
          },
          "metadata": {
            "tags": [],
            "needs_background": "light"
          }
        }
      ]
    },
    {
      "cell_type": "markdown",
      "metadata": {
        "id": "G2FdSuf0CDwF"
      },
      "source": [
        "Inference: The Kicks has a mild positive correlation in identifying the Brownlow Votes 1, 2 and 3. Kicks with lower values can be associated with Brownlow votes 0"
      ]
    },
    {
      "cell_type": "markdown",
      "metadata": {
        "id": "_JTkUU2kDOxE"
      },
      "source": [
        "## Brownlow Votes vs Marks"
      ]
    },
    {
      "cell_type": "code",
      "metadata": {
        "colab": {
          "base_uri": "https://localhost:8080/",
          "height": 0
        },
        "id": "jHTvktBLBwUM",
        "outputId": "56303697-1184-4370-9d1f-1db47ee962b6"
      },
      "source": [
        "sns.catplot(x = LABEL_FIELD_NAME, y = \"Marks\", data = AFL_Train, kind=\"violin\")"
      ],
      "execution_count": 29,
      "outputs": [
        {
          "output_type": "execute_result",
          "data": {
            "text/plain": [
              "<seaborn.axisgrid.FacetGrid at 0x7fe8f9e00c50>"
            ]
          },
          "metadata": {
            "tags": []
          },
          "execution_count": 29
        },
        {
          "output_type": "display_data",
          "data": {
            "image/png": "[encoded data removed]",
            "text/plain": [
              "<Figure size 360x360 with 1 Axes>"
            ]
          },
          "metadata": {
            "tags": [],
            "needs_background": "light"
          }
        }
      ]
    },
    {
      "cell_type": "markdown",
      "metadata": {
        "id": "LH6WZG-8H22G"
      },
      "source": [
        "Inference: No visibly significant association with Marks. Lower Marks are more densely distributed for Brownlow Vote 0"
      ]
    },
    {
      "cell_type": "markdown",
      "metadata": {
        "id": "kcr315MpHp3e"
      },
      "source": [
        "## Brownlow Votes vs Handballs"
      ]
    },
    {
      "cell_type": "code",
      "metadata": {
        "colab": {
          "base_uri": "https://localhost:8080/",
          "height": 0
        },
        "id": "thW-2F8WHuOt",
        "outputId": "ce76edf7-5849-4298-ca6b-f3941fa186dc"
      },
      "source": [
        "sns.catplot(x = LABEL_FIELD_NAME, y = \"Handballs\", data = AFL_Train, kind=\"violin\")"
      ],
      "execution_count": 30,
      "outputs": [
        {
          "output_type": "execute_result",
          "data": {
            "text/plain": [
              "<seaborn.axisgrid.FacetGrid at 0x7fe90514dac8>"
            ]
          },
          "metadata": {
            "tags": []
          },
          "execution_count": 30
        },
        {
          "output_type": "display_data",
          "data": {
            "image/png": "[encoded data removed]",
            "text/plain": [
              "<Figure size 360x360 with 1 Axes>"
            ]
          },
          "metadata": {
            "tags": [],
            "needs_background": "light"
          }
        }
      ]
    },
    {
      "cell_type": "markdown",
      "metadata": {
        "id": "GtpIkghgIFSD"
      },
      "source": [
        "Inference: Similar to Marks, Handballs show no visibly significant association with Marks. Lower Handballs count are more densely distributed for Brownlow Vote 0"
      ]
    },
    {
      "cell_type": "markdown",
      "metadata": {
        "id": "cyMiW641INjI"
      },
      "source": [
        "## Brownlow Votes vs Goals"
      ]
    },
    {
      "cell_type": "code",
      "metadata": {
        "colab": {
          "base_uri": "https://localhost:8080/",
          "height": 0
        },
        "id": "jRdOHf8FIY-b",
        "outputId": "a6a35e24-8dec-4eea-889f-c9be27e84e46"
      },
      "source": [
        "sns.catplot(x = LABEL_FIELD_NAME, y = \"Goals\", data = AFL_Train, kind=\"violin\")"
      ],
      "execution_count": 31,
      "outputs": [
        {
          "output_type": "execute_result",
          "data": {
            "text/plain": [
              "<seaborn.axisgrid.FacetGrid at 0x7fe8f635ec50>"
            ]
          },
          "metadata": {
            "tags": []
          },
          "execution_count": 31
        },
        {
          "output_type": "display_data",
          "data": {
            "image/png": "[encoded data removed]",
            "text/plain": [
              "<Figure size 360x360 with 1 Axes>"
            ]
          },
          "metadata": {
            "tags": [],
            "needs_background": "light"
          }
        }
      ]
    },
    {
      "cell_type": "markdown",
      "metadata": {
        "id": "h3VeCkJoIrxl"
      },
      "source": [
        "Inference: Goal count do not have any significant association for lower values. But beyond a threshold they seem to show positive association with Brownlow votes"
      ]
    },
    {
      "cell_type": "markdown",
      "metadata": {
        "id": "nmsD6muoI-_c"
      },
      "source": [
        "## Brownlow Votes vs Behinds"
      ]
    },
    {
      "cell_type": "code",
      "metadata": {
        "colab": {
          "base_uri": "https://localhost:8080/",
          "height": 0
        },
        "id": "KUJKe2vGJDb2",
        "outputId": "50f116ed-8e1a-4cab-8931-9b787da4cc04"
      },
      "source": [
        "sns.catplot(x = LABEL_FIELD_NAME, y = \"Behinds\", data = AFL_Train, kind=\"violin\")"
      ],
      "execution_count": 32,
      "outputs": [
        {
          "output_type": "execute_result",
          "data": {
            "text/plain": [
              "<seaborn.axisgrid.FacetGrid at 0x7fe8f6400b00>"
            ]
          },
          "metadata": {
            "tags": []
          },
          "execution_count": 32
        },
        {
          "output_type": "display_data",
          "data": {
            "image/png": "[encoded data removed]",
            "text/plain": [
              "<Figure size 360x360 with 1 Axes>"
            ]
          },
          "metadata": {
            "tags": [],
            "needs_background": "light"
          }
        }
      ]
    },
    {
      "cell_type": "markdown",
      "metadata": {
        "id": "pjjC9HsZJb-7"
      },
      "source": [
        "Inference: No visible evidence to show any association of Behinds with Brownlow votes\r\n"
      ]
    },
    {
      "cell_type": "markdown",
      "metadata": {
        "id": "oSBBsX18Jtsp"
      },
      "source": [
        "## Brownlow Votes vs Hitouts"
      ]
    },
    {
      "cell_type": "code",
      "metadata": {
        "colab": {
          "base_uri": "https://localhost:8080/",
          "height": 0
        },
        "id": "-w8vnkpxJz2W",
        "outputId": "41428068-8659-4a3d-8c7b-208dfd4ebf59"
      },
      "source": [
        "sns.catplot(x = LABEL_FIELD_NAME, y = \"Hitouts\", data = AFL_Train, kind=\"violin\")"
      ],
      "execution_count": 33,
      "outputs": [
        {
          "output_type": "execute_result",
          "data": {
            "text/plain": [
              "<seaborn.axisgrid.FacetGrid at 0x7fe8f9c85b70>"
            ]
          },
          "metadata": {
            "tags": []
          },
          "execution_count": 33
        },
        {
          "output_type": "display_data",
          "data": {
            "image/png": "[encoded data removed]",
            "text/plain": [
              "<Figure size 360x360 with 1 Axes>"
            ]
          },
          "metadata": {
            "tags": [],
            "needs_background": "light"
          }
        }
      ]
    },
    {
      "cell_type": "markdown",
      "metadata": {
        "id": "yQpUu-wtJ7y5"
      },
      "source": [
        "Inference: No visible evidence to show any linear dependency of Hitouts with Brownlow votes\r\n"
      ]
    },
    {
      "cell_type": "markdown",
      "metadata": {
        "id": "fFVpD9xiKAD4"
      },
      "source": [
        "## Brownlow Votes vs Tackles"
      ]
    },
    {
      "cell_type": "code",
      "metadata": {
        "colab": {
          "base_uri": "https://localhost:8080/",
          "height": 0
        },
        "id": "6QaWjRXxKE7L",
        "outputId": "fc7af7d3-f35c-4cc6-e9b3-bd682e96459e"
      },
      "source": [
        "sns.catplot(x = LABEL_FIELD_NAME, y = \"Tackles\", data = AFL_Train, kind=\"violin\")"
      ],
      "execution_count": 34,
      "outputs": [
        {
          "output_type": "execute_result",
          "data": {
            "text/plain": [
              "<seaborn.axisgrid.FacetGrid at 0x7fe8f63eda90>"
            ]
          },
          "metadata": {
            "tags": []
          },
          "execution_count": 34
        },
        {
          "output_type": "display_data",
          "data": {
            "image/png": "[encoded data removed]",
            "text/plain": [
              "<Figure size 360x360 with 1 Axes>"
            ]
          },
          "metadata": {
            "tags": [],
            "needs_background": "light"
          }
        }
      ]
    },
    {
      "cell_type": "markdown",
      "metadata": {
        "id": "pccz3sKTKPNF"
      },
      "source": [
        "Inference: No visible evidence to show any linear dependency of Tackles with Brownlow votes\r\n"
      ]
    },
    {
      "cell_type": "markdown",
      "metadata": {
        "id": "16ueR3qhKWew"
      },
      "source": [
        "## Brownlow Votes vs Rebounds"
      ]
    },
    {
      "cell_type": "code",
      "metadata": {
        "colab": {
          "base_uri": "https://localhost:8080/",
          "height": 0
        },
        "id": "3T_mc0h0KblC",
        "outputId": "4a58b5ee-a381-4b46-d5eb-3bd22cbf5ca8"
      },
      "source": [
        "sns.catplot(x = LABEL_FIELD_NAME, y = \"Rebounds\", data = AFL_Train, kind=\"violin\")"
      ],
      "execution_count": 35,
      "outputs": [
        {
          "output_type": "execute_result",
          "data": {
            "text/plain": [
              "<seaborn.axisgrid.FacetGrid at 0x7fe8f9c10518>"
            ]
          },
          "metadata": {
            "tags": []
          },
          "execution_count": 35
        },
        {
          "output_type": "display_data",
          "data": {
            "image/png": "[encoded data removed]",
            "text/plain": [
              "<Figure size 360x360 with 1 Axes>"
            ]
          },
          "metadata": {
            "tags": [],
            "needs_background": "light"
          }
        }
      ]
    },
    {
      "cell_type": "markdown",
      "metadata": {
        "id": "Uad2BuA5K4qO"
      },
      "source": [
        "Inference: No visible evidence to show any linear dependency of Tackles with Brownlow votes 0, 1 and 2. However, there is a small upward shift in Rebounds for Brownlow vote 3\r\n"
      ]
    },
    {
      "cell_type": "markdown",
      "metadata": {
        "id": "qf-hq5OOLM2t"
      },
      "source": [
        "## Brownlow Votes vs Inside 50s"
      ]
    },
    {
      "cell_type": "code",
      "metadata": {
        "colab": {
          "base_uri": "https://localhost:8080/",
          "height": 0
        },
        "id": "am67Gb-QLVH-",
        "outputId": "9c20272b-91a9-4c0a-bd3a-8e472a43b5ac"
      },
      "source": [
        "sns.catplot(x = LABEL_FIELD_NAME, y = \"Rebounds\", data = AFL_Train, kind=\"violin\")"
      ],
      "execution_count": 36,
      "outputs": [
        {
          "output_type": "execute_result",
          "data": {
            "text/plain": [
              "<seaborn.axisgrid.FacetGrid at 0x7fe8f60e82b0>"
            ]
          },
          "metadata": {
            "tags": []
          },
          "execution_count": 36
        },
        {
          "output_type": "display_data",
          "data": {
            "image/png": "[encoded data removed]",
            "text/plain": [
              "<Figure size 360x360 with 1 Axes>"
            ]
          },
          "metadata": {
            "tags": [],
            "needs_background": "light"
          }
        }
      ]
    },
    {
      "cell_type": "markdown",
      "metadata": {
        "id": "sqLQzm8lLgqi"
      },
      "source": [
        "Inference: Similar to Rebounds, Inside 50s show no visible evidence to show any linear dependency of Tackles with Brownlow votes 0, 1 and 2. However, there is a small upward shift in Rebounds for Brownlow vote 3\r\n"
      ]
    },
    {
      "cell_type": "markdown",
      "metadata": {
        "id": "CRkWUoC_LrS8"
      },
      "source": [
        "## Brownlow Vote vs Clearances"
      ]
    },
    {
      "cell_type": "code",
      "metadata": {
        "colab": {
          "base_uri": "https://localhost:8080/",
          "height": 0
        },
        "id": "tNK-3MpALw7f",
        "outputId": "4085c787-fd00-4c75-a375-06839102bc8a"
      },
      "source": [
        "sns.catplot(x = LABEL_FIELD_NAME, y = \"Clearances\", data = AFL_Train, kind=\"violin\")"
      ],
      "execution_count": 37,
      "outputs": [
        {
          "output_type": "execute_result",
          "data": {
            "text/plain": [
              "<seaborn.axisgrid.FacetGrid at 0x7fe8f601ccc0>"
            ]
          },
          "metadata": {
            "tags": []
          },
          "execution_count": 37
        },
        {
          "output_type": "display_data",
          "data": {
            "image/png": "[encoded data removed]",
            "text/plain": [
              "<Figure size 360x360 with 1 Axes>"
            ]
          },
          "metadata": {
            "tags": [],
            "needs_background": "light"
          }
        }
      ]
    },
    {
      "cell_type": "markdown",
      "metadata": {
        "id": "4EKiQrHUL401"
      },
      "source": [
        "Inference: There is a mild positive correlation for Brownlow votes with Clearances"
      ]
    },
    {
      "cell_type": "markdown",
      "metadata": {
        "id": "dm9w4TV7MLc-"
      },
      "source": [
        "## Brownlow Votes vs Clangers"
      ]
    },
    {
      "cell_type": "code",
      "metadata": {
        "colab": {
          "base_uri": "https://localhost:8080/",
          "height": 0
        },
        "id": "83oSLJPcMQsT",
        "outputId": "23d23659-f029-432e-b304-6f7d206b378f"
      },
      "source": [
        "sns.catplot(x = LABEL_FIELD_NAME, y = \"Clangers\", data = AFL_Train, kind=\"violin\")"
      ],
      "execution_count": 38,
      "outputs": [
        {
          "output_type": "execute_result",
          "data": {
            "text/plain": [
              "<seaborn.axisgrid.FacetGrid at 0x7fe8f9b61ac8>"
            ]
          },
          "metadata": {
            "tags": []
          },
          "execution_count": 38
        },
        {
          "output_type": "display_data",
          "data": {
            "image/png": "[encoded data removed]",
            "text/plain": [
              "<Figure size 360x360 with 1 Axes>"
            ]
          },
          "metadata": {
            "tags": [],
            "needs_background": "light"
          }
        }
      ]
    },
    {
      "cell_type": "markdown",
      "metadata": {
        "id": "ivOtLOtBMdaU"
      },
      "source": [
        "Inference: No significant visible association for Clangers with Brownlow votes"
      ]
    },
    {
      "cell_type": "markdown",
      "metadata": {
        "id": "jdJjsZBqMlLR"
      },
      "source": [
        "## Brownlow Votes vs Frees For"
      ]
    },
    {
      "cell_type": "code",
      "metadata": {
        "colab": {
          "base_uri": "https://localhost:8080/",
          "height": 0
        },
        "id": "TIq5L6o6Lz13",
        "outputId": "6337e7e2-4a4e-4e66-c783-21ee3ff3967c"
      },
      "source": [
        "sns.catplot(x = LABEL_FIELD_NAME, y = \"Frees For\", data = AFL_Train, kind=\"violin\")"
      ],
      "execution_count": 39,
      "outputs": [
        {
          "output_type": "execute_result",
          "data": {
            "text/plain": [
              "<seaborn.axisgrid.FacetGrid at 0x7fe8f9b29cc0>"
            ]
          },
          "metadata": {
            "tags": []
          },
          "execution_count": 39
        },
        {
          "output_type": "display_data",
          "data": {
            "image/png": "[encoded data removed]",
            "text/plain": [
              "<Figure size 360x360 with 1 Axes>"
            ]
          },
          "metadata": {
            "tags": [],
            "needs_background": "light"
          }
        }
      ]
    },
    {
      "cell_type": "markdown",
      "metadata": {
        "id": "Z82ypDAzMyBK"
      },
      "source": [
        "Inference: No significant visible association for \"Frees For\" with Brownlow votes"
      ]
    },
    {
      "cell_type": "markdown",
      "metadata": {
        "id": "lf-W5I60M1bl"
      },
      "source": [
        "## Brownlow Votes vs Frees Against"
      ]
    },
    {
      "cell_type": "code",
      "metadata": {
        "colab": {
          "base_uri": "https://localhost:8080/",
          "height": 0
        },
        "id": "RsL0kwK9LznK",
        "outputId": "b63c6b95-ed0b-4938-c92a-7e9222181248"
      },
      "source": [
        "sns.catplot(x = LABEL_FIELD_NAME, y = \"Frees Against\", data = AFL_Train, kind=\"violin\")"
      ],
      "execution_count": 40,
      "outputs": [
        {
          "output_type": "execute_result",
          "data": {
            "text/plain": [
              "<seaborn.axisgrid.FacetGrid at 0x7fe8f5eb24e0>"
            ]
          },
          "metadata": {
            "tags": []
          },
          "execution_count": 40
        },
        {
          "output_type": "display_data",
          "data": {
            "image/png": "[encoded data removed]",
            "text/plain": [
              "<Figure size 360x360 with 1 Axes>"
            ]
          },
          "metadata": {
            "tags": [],
            "needs_background": "light"
          }
        }
      ]
    },
    {
      "cell_type": "markdown",
      "metadata": {
        "id": "YNTHcUImM-TJ"
      },
      "source": [
        "Inference: Similar to \"Frees For\", \"Frees Against\" show no significant association with Brownlow votes"
      ]
    },
    {
      "cell_type": "markdown",
      "metadata": {
        "id": "2Tx8VJCkNKC6"
      },
      "source": [
        "## Brownlow Votes vs Contested Pos"
      ]
    },
    {
      "cell_type": "code",
      "metadata": {
        "colab": {
          "base_uri": "https://localhost:8080/",
          "height": 0
        },
        "id": "aqX3oE8yNU9p",
        "outputId": "24eb0756-52b4-47f2-cd31-ea11e06c5951"
      },
      "source": [
        "sns.catplot(x = LABEL_FIELD_NAME, y = \"Contested Pos\", data = AFL_Train, kind=\"violin\")"
      ],
      "execution_count": 41,
      "outputs": [
        {
          "output_type": "execute_result",
          "data": {
            "text/plain": [
              "<seaborn.axisgrid.FacetGrid at 0x7fe8f5f23c18>"
            ]
          },
          "metadata": {
            "tags": []
          },
          "execution_count": 41
        },
        {
          "output_type": "display_data",
          "data": {
            "image/png": "[encoded data removed]",
            "text/plain": [
              "<Figure size 360x360 with 1 Axes>"
            ]
          },
          "metadata": {
            "tags": [],
            "needs_background": "light"
          }
        }
      ]
    },
    {
      "cell_type": "markdown",
      "metadata": {
        "id": "KnoRJbVxNdGF"
      },
      "source": [
        "Inference: \"Contested Pos\" shows a mild positive correlation with Brownlow Votes"
      ]
    },
    {
      "cell_type": "markdown",
      "metadata": {
        "id": "y_R8Z2l0Nl8U"
      },
      "source": [
        "## Brownlow Votes vs Uncontested Pos"
      ]
    },
    {
      "cell_type": "code",
      "metadata": {
        "colab": {
          "base_uri": "https://localhost:8080/",
          "height": 0
        },
        "id": "QOZ7PvoBNr2u",
        "outputId": "9c0e4945-abd0-4523-f02b-386539d2d314"
      },
      "source": [
        "sns.catplot(x = LABEL_FIELD_NAME, y = \"Uncontested Pos\", data = AFL_Train, kind=\"violin\")"
      ],
      "execution_count": 42,
      "outputs": [
        {
          "output_type": "execute_result",
          "data": {
            "text/plain": [
              "<seaborn.axisgrid.FacetGrid at 0x7fe8f5e2f828>"
            ]
          },
          "metadata": {
            "tags": []
          },
          "execution_count": 42
        },
        {
          "output_type": "display_data",
          "data": {
            "image/png": "[encoded data removed]",
            "text/plain": [
              "<Figure size 360x360 with 1 Axes>"
            ]
          },
          "metadata": {
            "tags": [],
            "needs_background": "light"
          }
        }
      ]
    },
    {
      "cell_type": "markdown",
      "metadata": {
        "id": "Q_ifYn7HNx7Y"
      },
      "source": [
        "Inference: \"Uncontested Pos\" indicates, a lower value associated with Brownlow vote 0, for Brownlow votes 1, 2 and 3, there is not distinct attribution from \"Uncontested Pos\""
      ]
    },
    {
      "cell_type": "markdown",
      "metadata": {
        "id": "id7q_Gv6OJ3o"
      },
      "source": [
        "## Brownlow Votes vs Contested Marks"
      ]
    },
    {
      "cell_type": "code",
      "metadata": {
        "colab": {
          "base_uri": "https://localhost:8080/",
          "height": 0
        },
        "id": "d1tkK-VhOPDa",
        "outputId": "4b8475a9-7672-44df-93df-37d04d333fcb"
      },
      "source": [
        "sns.catplot(x = LABEL_FIELD_NAME, y = \"Contested Marks\", data = AFL_Train, kind=\"violin\")"
      ],
      "execution_count": 43,
      "outputs": [
        {
          "output_type": "execute_result",
          "data": {
            "text/plain": [
              "<seaborn.axisgrid.FacetGrid at 0x7fe8f9a88da0>"
            ]
          },
          "metadata": {
            "tags": []
          },
          "execution_count": 43
        },
        {
          "output_type": "display_data",
          "data": {
            "image/png": "[encoded data removed]",
            "text/plain": [
              "<Figure size 360x360 with 1 Axes>"
            ]
          },
          "metadata": {
            "tags": [],
            "needs_background": "light"
          }
        }
      ]
    },
    {
      "cell_type": "markdown",
      "metadata": {
        "id": "o2Wz-oe6OWoV"
      },
      "source": [
        "Inference: No distinct patterns visible in attributing \"Contested Marks\" towards Brownlow Votes"
      ]
    },
    {
      "cell_type": "markdown",
      "metadata": {
        "id": "ADZljwqCOgFw"
      },
      "source": [
        "## Brownlow Votes vs Marks Inside 50"
      ]
    },
    {
      "cell_type": "code",
      "metadata": {
        "colab": {
          "base_uri": "https://localhost:8080/",
          "height": 0
        },
        "id": "IibZ4rk6OnYe",
        "outputId": "270a4ee4-d1cf-446f-93a1-623d21e334e1"
      },
      "source": [
        "sns.catplot(x = LABEL_FIELD_NAME, y = \"Marks Inside 50\", data = AFL_Train, kind=\"violin\")"
      ],
      "execution_count": 44,
      "outputs": [
        {
          "output_type": "execute_result",
          "data": {
            "text/plain": [
              "<seaborn.axisgrid.FacetGrid at 0x7fe8f9c10f28>"
            ]
          },
          "metadata": {
            "tags": []
          },
          "execution_count": 44
        },
        {
          "output_type": "display_data",
          "data": {
            "image/png": "[encoded data removed]",
            "text/plain": [
              "<Figure size 360x360 with 1 Axes>"
            ]
          },
          "metadata": {
            "tags": [],
            "needs_background": "light"
          }
        }
      ]
    },
    {
      "cell_type": "markdown",
      "metadata": {
        "id": "iSqP9FlsO1vU"
      },
      "source": [
        "Inference: \"Marks Inside 50\" show no significant relation with Brownlow Votes"
      ]
    },
    {
      "cell_type": "markdown",
      "metadata": {
        "id": "d4W-iPMpO8GL"
      },
      "source": [
        "## Brownlow Votes vs One Percenters"
      ]
    },
    {
      "cell_type": "code",
      "metadata": {
        "colab": {
          "base_uri": "https://localhost:8080/",
          "height": 0
        },
        "id": "cBkCyXvBPAXD",
        "outputId": "472dd86a-0ff1-4d29-8555-6bc6f833eceb"
      },
      "source": [
        "sns.catplot(x = LABEL_FIELD_NAME, y = \"One Percenters\", data = AFL_Train, kind=\"violin\")"
      ],
      "execution_count": 45,
      "outputs": [
        {
          "output_type": "execute_result",
          "data": {
            "text/plain": [
              "<seaborn.axisgrid.FacetGrid at 0x7fe8f9a9dcf8>"
            ]
          },
          "metadata": {
            "tags": []
          },
          "execution_count": 45
        },
        {
          "output_type": "display_data",
          "data": {
            "image/png": "[encoded data removed]",
            "text/plain": [
              "<Figure size 360x360 with 1 Axes>"
            ]
          },
          "metadata": {
            "tags": [],
            "needs_background": "light"
          }
        }
      ]
    },
    {
      "cell_type": "markdown",
      "metadata": {
        "id": "eHPY4HepPKj_"
      },
      "source": [
        "Inference: No visible evidence of \"One Percenters\" being associated with Brownlow Votes"
      ]
    },
    {
      "cell_type": "markdown",
      "metadata": {
        "id": "4rZ8toBJPVJO"
      },
      "source": [
        "## Brownlow Votes vs Goal Assists"
      ]
    },
    {
      "cell_type": "code",
      "metadata": {
        "colab": {
          "base_uri": "https://localhost:8080/",
          "height": 0
        },
        "id": "u2oDw86fPZti",
        "outputId": "19e77258-975e-4155-f856-c2ea0f5fe0a3"
      },
      "source": [
        "sns.catplot(x = LABEL_FIELD_NAME, y = \"Goal Assists\", data = AFL_Train, kind=\"violin\")"
      ],
      "execution_count": 46,
      "outputs": [
        {
          "output_type": "execute_result",
          "data": {
            "text/plain": [
              "<seaborn.axisgrid.FacetGrid at 0x7fe8f9923400>"
            ]
          },
          "metadata": {
            "tags": []
          },
          "execution_count": 46
        },
        {
          "output_type": "display_data",
          "data": {
            "image/png": "[encoded data removed]",
            "text/plain": [
              "<Figure size 360x360 with 1 Axes>"
            ]
          },
          "metadata": {
            "tags": [],
            "needs_background": "light"
          }
        }
      ]
    },
    {
      "cell_type": "markdown",
      "metadata": {
        "id": "N5HbvD8yQUdm"
      },
      "source": [
        "Inference: No strong visible evidence to attribute the Brownlow Votes"
      ]
    },
    {
      "cell_type": "markdown",
      "metadata": {
        "id": "mibMnY97Qi4u"
      },
      "source": [
        "## Brownlow Votes vs Time On Ground (TOG)"
      ]
    },
    {
      "cell_type": "code",
      "metadata": {
        "colab": {
          "base_uri": "https://localhost:8080/",
          "height": 0
        },
        "id": "-4Fp-PepQpbU",
        "outputId": "8472d4e0-caac-43f6-971b-8c23b943996d"
      },
      "source": [
        "sns.catplot(x = LABEL_FIELD_NAME, y = \"TOG\", data = AFL_Train, kind=\"violin\")"
      ],
      "execution_count": 47,
      "outputs": [
        {
          "output_type": "execute_result",
          "data": {
            "text/plain": [
              "<seaborn.axisgrid.FacetGrid at 0x7fe8f98dd8d0>"
            ]
          },
          "metadata": {
            "tags": []
          },
          "execution_count": 47
        },
        {
          "output_type": "display_data",
          "data": {
            "image/png": "[encoded data removed]",
            "text/plain": [
              "<Figure size 360x360 with 1 Axes>"
            ]
          },
          "metadata": {
            "tags": [],
            "needs_background": "light"
          }
        }
      ]
    },
    {
      "cell_type": "markdown",
      "metadata": {
        "id": "XwREk5-hQzTQ"
      },
      "source": [
        "Inference: Time On Ground with lower values (< 50) shows strong evidence of being associated with 0 Brownlow Vote."
      ]
    },
    {
      "cell_type": "markdown",
      "metadata": {
        "id": "1g5xQUJgFuvQ"
      },
      "source": [
        "## Brownlow Votes vs Home Team Attribution"
      ]
    },
    {
      "cell_type": "code",
      "metadata": {
        "colab": {
          "base_uri": "https://localhost:8080/"
        },
        "id": "-KsDuPuRFexK",
        "outputId": "19396217-4cee-4caa-eb5f-ad7b17eb0fad"
      },
      "source": [
        "Home_Team_Association = pd.crosstab(AFL_Train[LABEL_FIELD_NAME], AFL_Train['Is_Home_Team'])\r\n",
        "print(Home_Team_Association)\r\n"
      ],
      "execution_count": 48,
      "outputs": [
        {
          "output_type": "stream",
          "text": [
            "Is_Home_Team        0      1\n",
            "Brownlow Votes              \n",
            "0.0             51945  51072\n",
            "1.0              1054   1332\n",
            "2.0              1041   1345\n",
            "3.0              1026   1360\n"
          ],
          "name": "stdout"
        }
      ]
    },
    {
      "cell_type": "code",
      "metadata": {
        "colab": {
          "base_uri": "https://localhost:8080/",
          "height": 0
        },
        "id": "1IYctiofAi9Q",
        "outputId": "44890328-598c-4dc5-8017-462ada3dee06"
      },
      "source": [
        "# Filtering out Bronwlow Votes 1, 2, 3 (since Brownlow Vote 0  has high volume - the patterns for 1, 2 or 3 wont be clear)\r\n",
        "AFL_Brownlow_Vote_Winners = AFL_Train.loc[AFL_Train[LABEL_FIELD_NAME].isin([1, 2, 3])]\r\n",
        "sns.countplot(x = LABEL_FIELD_NAME, hue = \"Is_Home_Team\", data = AFL_Brownlow_Vote_Winners)"
      ],
      "execution_count": 49,
      "outputs": [
        {
          "output_type": "execute_result",
          "data": {
            "text/plain": [
              "<matplotlib.axes._subplots.AxesSubplot at 0x7fe8f5a62c50>"
            ]
          },
          "metadata": {
            "tags": []
          },
          "execution_count": 49
        },
        {
          "output_type": "display_data",
          "data": {
            "image/png": "[encoded data removed]",
            "text/plain": [
              "<Figure size 432x288 with 1 Axes>"
            ]
          },
          "metadata": {
            "tags": [],
            "needs_background": "light"
          }
        }
      ]
    },
    {
      "cell_type": "markdown",
      "metadata": {
        "id": "VR0zZk6gRMxo"
      },
      "source": [
        "Inference: For each of Brownlow Votes 1, 2 and 3, the Home Team Players have won the Brownlow Vote about 60% of the time."
      ]
    },
    {
      "cell_type": "code",
      "metadata": {
        "id": "h-xRs3vAhfTh"
      },
      "source": [
        ""
      ],
      "execution_count": 49,
      "outputs": []
    },
    {
      "cell_type": "markdown",
      "metadata": {
        "id": "XOd1odHVYUiC"
      },
      "source": [
        "# Feature Engineering - 2\r\n",
        "\r\n",
        "## Feature Encoding"
      ]
    },
    {
      "cell_type": "code",
      "metadata": {
        "id": "K0GgwPmPnXml"
      },
      "source": [
        "rounds_order = [str(round_num) for round_num in range(1, 25)]\r\n",
        "rounds_order.extend([\"EF\", \"QF\", \"SF\", \"PF\", \"GF\"])\r\n",
        "rounds_order_map = {round: (round_idx + 1) for round_idx, round in enumerate(rounds_order)}\r\n",
        "\r\n",
        "def encode_round_order(row):\r\n",
        "    return rounds_order_map[row[\"Round\"]]"
      ],
      "execution_count": 50,
      "outputs": []
    },
    {
      "cell_type": "code",
      "metadata": {
        "id": "Q780KOkVYg1W"
      },
      "source": [
        "AFL_Train[\"Round_Cat\"] = AFL_Train.apply(encode_round_order, axis = 1)"
      ],
      "execution_count": 51,
      "outputs": []
    },
    {
      "cell_type": "markdown",
      "metadata": {
        "id": "esTO86i8R--4"
      },
      "source": [
        "# Important Features (from EDA)"
      ]
    },
    {
      "cell_type": "markdown",
      "metadata": {
        "id": "VhSTpKBbSF4w"
      },
      "source": [
        "Based on the EDA, the following features are considered:\r\n",
        "\r\n",
        "\r\n",
        "\r\n",
        "1. Team_Margin\r\n",
        "2. Disposals\r\n",
        "3. Kicks\r\n",
        "4. Marks\r\n",
        "5. Handballs\r\n",
        "6. Goals\r\n",
        "7. Behinds\r\n",
        "8. Rebounds\r\n",
        "9. Inside 50s\r\n",
        "10. Contested Pos\r\n",
        "11. Uncontested Pos\r\n",
        "12. Time On Ground\r\n",
        "13. Is_Home_Team\r\n",
        "14. Team_Score\r\n",
        "\r\n",
        "The Round Number will not have any direct relation with Brownlow Votes prediction. Since each match ends with 3 players being given Brownlow Votes 1, 2 and 3 respectively. However, the might have an interaction effect with the other predictors. "
      ]
    },
    {
      "cell_type": "code",
      "metadata": {
        "id": "APqnn0-mfBmd"
      },
      "source": [
        "full_features = [\r\n",
        "            \"Team_Margin\",\r\n",
        "            \"Disposals\",\r\n",
        "            \"Kicks\",\r\n",
        "            \"Marks\",\r\n",
        "            \"Handballs\",\r\n",
        "            \"Goals\",\r\n",
        "            \"Behinds\",\r\n",
        "            \"Hitouts\",\r\n",
        "            \"Tackles\",\r\n",
        "            \"Rebounds\",\r\n",
        "            \"Inside 50s\",\r\n",
        "            \"Clearances\",\r\n",
        "            \"Clangers\",\r\n",
        "            \"Frees For\",\r\n",
        "            \"Frees Against\",\r\n",
        "            \"Contested Pos\",\r\n",
        "            \"Uncontested Pos\",\r\n",
        "            \"Marks Inside 50\",\r\n",
        "            \"One Percenters\",\r\n",
        "            \"Goal Assists\",\r\n",
        "            \"TOG\",\r\n",
        "            \"Is_Home_Team\",\r\n",
        "            \"Round_Cat\",\r\n",
        "            \"Team_Score\"\r\n",
        "        ]"
      ],
      "execution_count": 52,
      "outputs": []
    },
    {
      "cell_type": "markdown",
      "metadata": {
        "id": "YZ6mxYdtjMje"
      },
      "source": [
        "# Brownlow Votes Classifier"
      ]
    },
    {
      "cell_type": "markdown",
      "metadata": {
        "id": "X0CWtigSgP_8"
      },
      "source": [
        "Setting up a Strafied 10-Fold for Cross-Validation Evaluation\r\n",
        "\r\n",
        "Note: Using StratifiesCV to retain the class imbalance across each fold"
      ]
    },
    {
      "cell_type": "markdown",
      "metadata": {
        "id": "uFohEGN6gtVK"
      },
      "source": [
        "Using F1-Score (with macro average) as an evaluation metric to account for the class imbalance"
      ]
    },
    {
      "cell_type": "code",
      "metadata": {
        "id": "XGjfq5MyfvxO"
      },
      "source": [
        "from sklearn.model_selection import GridSearchCV\r\n",
        "from sklearn.metrics import make_scorer\r\n",
        "from sklearn.model_selection import GridSearchCV, StratifiedKFold\r\n",
        "from sklearn.metrics import make_scorer\r\n",
        "from sklearn.metrics import f1_score, roc_auc_score\r\n",
        "\r\n",
        "RANDOM_STATE = 30\r\n",
        "NUMBER_FOLDS = 5\r\n",
        "\r\n",
        "cv = StratifiedKFold(n_splits = NUMBER_FOLDS, shuffle = True, random_state = RANDOM_STATE)\r\n",
        "\r\n",
        "f1_scoring = make_scorer(f1_score, average = 'macro')\r\n"
      ],
      "execution_count": 53,
      "outputs": []
    },
    {
      "cell_type": "code",
      "metadata": {
        "id": "eWpucd3OLb8v"
      },
      "source": [
        "def print_grid_clf_summary(grid_cv_clf, grid_params):\r\n",
        "    print(\"Best Score: {0}\".format(grid_cv_clf.best_score_))\r\n",
        "    print(\"Best Parameters:\")\r\n",
        "    for param_name in sorted(grid_params.keys()):\r\n",
        "        print(\"\\t{0}: {1}\".format(param_name ,grid_cv_clf.best_params_[param_name]))\r\n",
        "    return grid_cv_clf.best_estimator_"
      ],
      "execution_count": 54,
      "outputs": []
    },
    {
      "cell_type": "markdown",
      "metadata": {
        "id": "l2cO0xIkjSdu"
      },
      "source": [
        "## Random Forest Classifier\r\n",
        "\r\n",
        "Random Forest can capture some complex interactions among the predictors and is robust to over-fitting"
      ]
    },
    {
      "cell_type": "markdown",
      "metadata": {
        "id": "Umz0inj6oIAM"
      },
      "source": [
        "NOTE: Using only a few parameters combinations to save CV time"
      ]
    },
    {
      "cell_type": "code",
      "metadata": {
        "id": "n2V01HXzrEx0"
      },
      "source": [
        "def plot_feature_importance(model, feaures_list):\r\n",
        "    feat_importances = pd.Series(model.feature_importances_, index = feaures_list)\r\n",
        "    feat_importances.nlargest(len(feaures_list)).plot(kind='barh')"
      ],
      "execution_count": 55,
      "outputs": []
    },
    {
      "cell_type": "code",
      "metadata": {
        "id": "8w8TOkh5jmR_"
      },
      "source": [
        "from sklearn.ensemble import RandomForestClassifier\r\n",
        "\r\n",
        "rf_params_grid = {\"max_depth\": [10, 20, 50],\r\n",
        "                  \"criterion\": [\"gini\"],\r\n",
        "                  \"n_estimators\" : [100, 200, 300]\r\n",
        "        }\r\n",
        "\r\n",
        "rf_clf = RandomForestClassifier(n_jobs = -1)\r\n",
        "\r\n",
        "rf_grid_clf = GridSearchCV(\r\n",
        "    estimator = rf_clf, \r\n",
        "    param_grid = rf_params_grid, \r\n",
        "    scoring = f1_scoring,\r\n",
        "    cv = cv, \r\n",
        "    verbose = 4)"
      ],
      "execution_count": 56,
      "outputs": []
    },
    {
      "cell_type": "code",
      "metadata": {
        "id": "F88IJFL3kQRb",
        "colab": {
          "base_uri": "https://localhost:8080/"
        },
        "outputId": "f96e2901-bf76-4197-b5b4-279a0f5e1558"
      },
      "source": [
        "rf_grid_clf.fit(AFL_Train[full_features], AFL_Train[LABEL_FIELD_NAME])"
      ],
      "execution_count": 57,
      "outputs": [
        {
          "output_type": "stream",
          "text": [
            "Fitting 5 folds for each of 9 candidates, totalling 45 fits\n",
            "[CV] criterion=gini, max_depth=10, n_estimators=100 ..................\n"
          ],
          "name": "stdout"
        },
        {
          "output_type": "stream",
          "text": [
            "[Parallel(n_jobs=1)]: Using backend SequentialBackend with 1 concurrent workers.\n"
          ],
          "name": "stderr"
        },
        {
          "output_type": "stream",
          "text": [
            "[CV]  criterion=gini, max_depth=10, n_estimators=100, score=0.328, total=   8.4s\n",
            "[CV] criterion=gini, max_depth=10, n_estimators=100 ..................\n"
          ],
          "name": "stdout"
        },
        {
          "output_type": "stream",
          "text": [
            "[Parallel(n_jobs=1)]: Done   1 out of   1 | elapsed:    8.4s remaining:    0.0s\n"
          ],
          "name": "stderr"
        },
        {
          "output_type": "stream",
          "text": [
            "[CV]  criterion=gini, max_depth=10, n_estimators=100, score=0.326, total=   7.0s\n",
            "[CV] criterion=gini, max_depth=10, n_estimators=100 ..................\n"
          ],
          "name": "stdout"
        },
        {
          "output_type": "stream",
          "text": [
            "[Parallel(n_jobs=1)]: Done   2 out of   2 | elapsed:   15.4s remaining:    0.0s\n"
          ],
          "name": "stderr"
        },
        {
          "output_type": "stream",
          "text": [
            "[CV]  criterion=gini, max_depth=10, n_estimators=100, score=0.331, total=   7.1s\n",
            "[CV] criterion=gini, max_depth=10, n_estimators=100 ..................\n"
          ],
          "name": "stdout"
        },
        {
          "output_type": "stream",
          "text": [
            "[Parallel(n_jobs=1)]: Done   3 out of   3 | elapsed:   22.5s remaining:    0.0s\n"
          ],
          "name": "stderr"
        },
        {
          "output_type": "stream",
          "text": [
            "[CV]  criterion=gini, max_depth=10, n_estimators=100, score=0.330, total=   7.0s\n",
            "[CV] criterion=gini, max_depth=10, n_estimators=100 ..................\n",
            "[CV]  criterion=gini, max_depth=10, n_estimators=100, score=0.322, total=   7.1s\n",
            "[CV] criterion=gini, max_depth=10, n_estimators=200 ..................\n",
            "[CV]  criterion=gini, max_depth=10, n_estimators=200, score=0.325, total=  13.8s\n",
            "[CV] criterion=gini, max_depth=10, n_estimators=200 ..................\n",
            "[CV]  criterion=gini, max_depth=10, n_estimators=200, score=0.331, total=  13.9s\n",
            "[CV] criterion=gini, max_depth=10, n_estimators=200 ..................\n",
            "[CV]  criterion=gini, max_depth=10, n_estimators=200, score=0.330, total=  13.8s\n",
            "[CV] criterion=gini, max_depth=10, n_estimators=200 ..................\n",
            "[CV]  criterion=gini, max_depth=10, n_estimators=200, score=0.331, total=  14.0s\n",
            "[CV] criterion=gini, max_depth=10, n_estimators=200 ..................\n",
            "[CV]  criterion=gini, max_depth=10, n_estimators=200, score=0.319, total=  14.2s\n",
            "[CV] criterion=gini, max_depth=10, n_estimators=300 ..................\n",
            "[CV]  criterion=gini, max_depth=10, n_estimators=300, score=0.324, total=  21.0s\n",
            "[CV] criterion=gini, max_depth=10, n_estimators=300 ..................\n",
            "[CV]  criterion=gini, max_depth=10, n_estimators=300, score=0.332, total=  21.0s\n",
            "[CV] criterion=gini, max_depth=10, n_estimators=300 ..................\n",
            "[CV]  criterion=gini, max_depth=10, n_estimators=300, score=0.331, total=  21.1s\n",
            "[CV] criterion=gini, max_depth=10, n_estimators=300 ..................\n",
            "[CV]  criterion=gini, max_depth=10, n_estimators=300, score=0.330, total=  20.7s\n",
            "[CV] criterion=gini, max_depth=10, n_estimators=300 ..................\n",
            "[CV]  criterion=gini, max_depth=10, n_estimators=300, score=0.321, total=  20.9s\n",
            "[CV] criterion=gini, max_depth=20, n_estimators=100 ..................\n",
            "[CV]  criterion=gini, max_depth=20, n_estimators=100, score=0.347, total=  11.5s\n",
            "[CV] criterion=gini, max_depth=20, n_estimators=100 ..................\n",
            "[CV]  criterion=gini, max_depth=20, n_estimators=100, score=0.352, total=  11.7s\n",
            "[CV] criterion=gini, max_depth=20, n_estimators=100 ..................\n",
            "[CV]  criterion=gini, max_depth=20, n_estimators=100, score=0.352, total=  11.6s\n",
            "[CV] criterion=gini, max_depth=20, n_estimators=100 ..................\n",
            "[CV]  criterion=gini, max_depth=20, n_estimators=100, score=0.346, total=  11.7s\n",
            "[CV] criterion=gini, max_depth=20, n_estimators=100 ..................\n",
            "[CV]  criterion=gini, max_depth=20, n_estimators=100, score=0.341, total=  11.7s\n",
            "[CV] criterion=gini, max_depth=20, n_estimators=200 ..................\n",
            "[CV]  criterion=gini, max_depth=20, n_estimators=200, score=0.345, total=  23.0s\n",
            "[CV] criterion=gini, max_depth=20, n_estimators=200 ..................\n",
            "[CV]  criterion=gini, max_depth=20, n_estimators=200, score=0.346, total=  23.1s\n",
            "[CV] criterion=gini, max_depth=20, n_estimators=200 ..................\n",
            "[CV]  criterion=gini, max_depth=20, n_estimators=200, score=0.345, total=  23.3s\n",
            "[CV] criterion=gini, max_depth=20, n_estimators=200 ..................\n",
            "[CV]  criterion=gini, max_depth=20, n_estimators=200, score=0.349, total=  23.3s\n",
            "[CV] criterion=gini, max_depth=20, n_estimators=200 ..................\n",
            "[CV]  criterion=gini, max_depth=20, n_estimators=200, score=0.334, total=  22.7s\n",
            "[CV] criterion=gini, max_depth=20, n_estimators=300 ..................\n",
            "[CV]  criterion=gini, max_depth=20, n_estimators=300, score=0.339, total=  34.5s\n",
            "[CV] criterion=gini, max_depth=20, n_estimators=300 ..................\n",
            "[CV]  criterion=gini, max_depth=20, n_estimators=300, score=0.358, total=  34.5s\n",
            "[CV] criterion=gini, max_depth=20, n_estimators=300 ..................\n",
            "[CV]  criterion=gini, max_depth=20, n_estimators=300, score=0.344, total=  34.6s\n",
            "[CV] criterion=gini, max_depth=20, n_estimators=300 ..................\n",
            "[CV]  criterion=gini, max_depth=20, n_estimators=300, score=0.341, total=  39.4s\n",
            "[CV] criterion=gini, max_depth=20, n_estimators=300 ..................\n",
            "[CV]  criterion=gini, max_depth=20, n_estimators=300, score=0.333, total=  34.5s\n",
            "[CV] criterion=gini, max_depth=50, n_estimators=100 ..................\n",
            "[CV]  criterion=gini, max_depth=50, n_estimators=100, score=0.341, total=  12.1s\n",
            "[CV] criterion=gini, max_depth=50, n_estimators=100 ..................\n",
            "[CV]  criterion=gini, max_depth=50, n_estimators=100, score=0.345, total=  12.2s\n",
            "[CV] criterion=gini, max_depth=50, n_estimators=100 ..................\n",
            "[CV]  criterion=gini, max_depth=50, n_estimators=100, score=0.351, total=  12.1s\n",
            "[CV] criterion=gini, max_depth=50, n_estimators=100 ..................\n",
            "[CV]  criterion=gini, max_depth=50, n_estimators=100, score=0.343, total=  12.5s\n",
            "[CV] criterion=gini, max_depth=50, n_estimators=100 ..................\n",
            "[CV]  criterion=gini, max_depth=50, n_estimators=100, score=0.338, total=  12.3s\n",
            "[CV] criterion=gini, max_depth=50, n_estimators=200 ..................\n",
            "[CV]  criterion=gini, max_depth=50, n_estimators=200, score=0.347, total=  24.2s\n",
            "[CV] criterion=gini, max_depth=50, n_estimators=200 ..................\n",
            "[CV]  criterion=gini, max_depth=50, n_estimators=200, score=0.347, total=  24.1s\n",
            "[CV] criterion=gini, max_depth=50, n_estimators=200 ..................\n",
            "[CV]  criterion=gini, max_depth=50, n_estimators=200, score=0.348, total=  23.8s\n",
            "[CV] criterion=gini, max_depth=50, n_estimators=200 ..................\n",
            "[CV]  criterion=gini, max_depth=50, n_estimators=200, score=0.343, total=  23.8s\n",
            "[CV] criterion=gini, max_depth=50, n_estimators=200 ..................\n",
            "[CV]  criterion=gini, max_depth=50, n_estimators=200, score=0.335, total=  23.9s\n",
            "[CV] criterion=gini, max_depth=50, n_estimators=300 ..................\n",
            "[CV]  criterion=gini, max_depth=50, n_estimators=300, score=0.342, total=  35.5s\n",
            "[CV] criterion=gini, max_depth=50, n_estimators=300 ..................\n",
            "[CV]  criterion=gini, max_depth=50, n_estimators=300, score=0.346, total=  35.4s\n",
            "[CV] criterion=gini, max_depth=50, n_estimators=300 ..................\n",
            "[CV]  criterion=gini, max_depth=50, n_estimators=300, score=0.343, total=  36.1s\n",
            "[CV] criterion=gini, max_depth=50, n_estimators=300 ..................\n",
            "[CV]  criterion=gini, max_depth=50, n_estimators=300, score=0.347, total=  36.1s\n",
            "[CV] criterion=gini, max_depth=50, n_estimators=300 ..................\n",
            "[CV]  criterion=gini, max_depth=50, n_estimators=300, score=0.338, total=  35.8s\n"
          ],
          "name": "stdout"
        },
        {
          "output_type": "stream",
          "text": [
            "[Parallel(n_jobs=1)]: Done  45 out of  45 | elapsed: 15.4min finished\n"
          ],
          "name": "stderr"
        },
        {
          "output_type": "execute_result",
          "data": {
            "text/plain": [
              "GridSearchCV(cv=StratifiedKFold(n_splits=5, random_state=30, shuffle=True),\n",
              "             error_score=nan,\n",
              "             estimator=RandomForestClassifier(bootstrap=True, ccp_alpha=0.0,\n",
              "                                              class_weight=None,\n",
              "                                              criterion='gini', max_depth=None,\n",
              "                                              max_features='auto',\n",
              "                                              max_leaf_nodes=None,\n",
              "                                              max_samples=None,\n",
              "                                              min_impurity_decrease=0.0,\n",
              "                                              min_impurity_split=None,\n",
              "                                              min_samples_leaf=1,\n",
              "                                              min_samples_split=2,\n",
              "                                              min_weight_fraction_leaf=0.0,\n",
              "                                              n_estimators=100, n_jobs=-1,\n",
              "                                              oob_score=False,\n",
              "                                              random_state=None, verbose=0,\n",
              "                                              warm_start=False),\n",
              "             iid='deprecated', n_jobs=None,\n",
              "             param_grid={'criterion': ['gini'], 'max_depth': [10, 20, 50],\n",
              "                         'n_estimators': [100, 200, 300]},\n",
              "             pre_dispatch='2*n_jobs', refit=True, return_train_score=False,\n",
              "             scoring=make_scorer(f1_score, average=macro), verbose=4)"
            ]
          },
          "metadata": {
            "tags": []
          },
          "execution_count": 57
        }
      ]
    },
    {
      "cell_type": "code",
      "metadata": {
        "colab": {
          "base_uri": "https://localhost:8080/"
        },
        "id": "J9DKgQdgktnW",
        "outputId": "8ffbc5e5-332b-42f9-d612-7cabc2a02afa"
      },
      "source": [
        "best_rf_clf = print_grid_clf_summary(rf_grid_clf, rf_params_grid)"
      ],
      "execution_count": 58,
      "outputs": [
        {
          "output_type": "stream",
          "text": [
            "Best Score: 0.3476742316967868\n",
            "Best Parameters:\n",
            "\tcriterion: gini\n",
            "\tmax_depth: 20\n",
            "\tn_estimators: 100\n"
          ],
          "name": "stdout"
        }
      ]
    },
    {
      "cell_type": "code",
      "metadata": {
        "colab": {
          "base_uri": "https://localhost:8080/",
          "height": 265
        },
        "id": "8Bx_3gPS0WNE",
        "outputId": "6fcc8ac0-4bef-49a0-d6ae-694f0c9910e2"
      },
      "source": [
        "plot_feature_importance(best_rf_clf, full_features)"
      ],
      "execution_count": 59,
      "outputs": [
        {
          "output_type": "display_data",
          "data": {
            "image/png": "[encoded data removed]",
            "text/plain": [
              "<Figure size 432x288 with 1 Axes>"
            ]
          },
          "metadata": {
            "tags": [],
            "needs_background": "light"
          }
        }
      ]
    },
    {
      "cell_type": "markdown",
      "metadata": {
        "id": "vJKpxBmZMQ-h"
      },
      "source": [
        "### Random Forest with Weighted Class"
      ]
    },
    {
      "cell_type": "code",
      "metadata": {
        "colab": {
          "base_uri": "https://localhost:8080/"
        },
        "id": "oqzxLjoMMX3F",
        "outputId": "beba1270-1f8c-45e9-85df-f0d25564bca9"
      },
      "source": [
        "total_votes = sum([vote for _, vote in class_proportions.items()])\r\n",
        "weights = {vote_key: (1 - vote/total_votes) / 3 for vote_key, vote in class_proportions.items()}\r\n",
        "print(weights)"
      ],
      "execution_count": 60,
      "outputs": [
        {
          "output_type": "stream",
          "text": [
            "{0: 0.02165645563875651, 1: 0.32611451478708114, 2: 0.32611451478708114, 3: 0.32611451478708114}\n"
          ],
          "name": "stdout"
        }
      ]
    },
    {
      "cell_type": "code",
      "metadata": {
        "colab": {
          "base_uri": "https://localhost:8080/"
        },
        "id": "1i9q1_U6MxGM",
        "outputId": "fb98984f-d7bc-4c33-c469-d845ec6e6f05"
      },
      "source": [
        "sum([weight for _, weight in weights.items()])"
      ],
      "execution_count": 61,
      "outputs": [
        {
          "output_type": "execute_result",
          "data": {
            "text/plain": [
              "1.0"
            ]
          },
          "metadata": {
            "tags": []
          },
          "execution_count": 61
        }
      ]
    },
    {
      "cell_type": "code",
      "metadata": {
        "id": "32rbXUYympCZ"
      },
      "source": [
        "rf_wt_params_grid = {\"max_depth\": [10, 20, 50],\r\n",
        "                  \"criterion\": [\"gini\"],\r\n",
        "                  \"n_estimators\" : [100, 200, 300],\r\n",
        "                  \"class_weight\": [weights]\r\n",
        "                  }\r\n",
        "\r\n",
        "rf_wt_clf = RandomForestClassifier(RandomForestClassifier(n_jobs = -1))\r\n",
        "\r\n",
        "rf_wt_grid_clf = GridSearchCV(\r\n",
        "    estimator = rf_clf, \r\n",
        "    param_grid = rf_wt_params_grid, \r\n",
        "    scoring = f1_scoring,\r\n",
        "    cv = cv, \r\n",
        "    verbose = 4)"
      ],
      "execution_count": 62,
      "outputs": []
    },
    {
      "cell_type": "code",
      "metadata": {
        "colab": {
          "base_uri": "https://localhost:8080/"
        },
        "id": "wYpFrwLUO9dv",
        "outputId": "5c10098a-c4e6-4ba4-e6a8-42d2c2c91fa1"
      },
      "source": [
        "rf_wt_grid_clf.fit(AFL_Train[full_features], AFL_Train[LABEL_FIELD_NAME])"
      ],
      "execution_count": 63,
      "outputs": [
        {
          "output_type": "stream",
          "text": [
            "Fitting 5 folds for each of 9 candidates, totalling 45 fits\n",
            "[CV] class_weight={0: 0.02165645563875651, 1: 0.32611451478708114, 2: 0.32611451478708114, 3: 0.32611451478708114}, criterion=gini, max_depth=10, n_estimators=100 \n"
          ],
          "name": "stdout"
        },
        {
          "output_type": "stream",
          "text": [
            "[Parallel(n_jobs=1)]: Using backend SequentialBackend with 1 concurrent workers.\n"
          ],
          "name": "stderr"
        },
        {
          "output_type": "stream",
          "text": [
            "[CV]  class_weight={0: 0.02165645563875651, 1: 0.32611451478708114, 2: 0.32611451478708114, 3: 0.32611451478708114}, criterion=gini, max_depth=10, n_estimators=100, score=0.402, total=   7.1s\n",
            "[CV] class_weight={0: 0.02165645563875651, 1: 0.32611451478708114, 2: 0.32611451478708114, 3: 0.32611451478708114}, criterion=gini, max_depth=10, n_estimators=100 \n"
          ],
          "name": "stdout"
        },
        {
          "output_type": "stream",
          "text": [
            "[Parallel(n_jobs=1)]: Done   1 out of   1 | elapsed:    7.1s remaining:    0.0s\n"
          ],
          "name": "stderr"
        },
        {
          "output_type": "stream",
          "text": [
            "[CV]  class_weight={0: 0.02165645563875651, 1: 0.32611451478708114, 2: 0.32611451478708114, 3: 0.32611451478708114}, criterion=gini, max_depth=10, n_estimators=100, score=0.411, total=   7.1s\n",
            "[CV] class_weight={0: 0.02165645563875651, 1: 0.32611451478708114, 2: 0.32611451478708114, 3: 0.32611451478708114}, criterion=gini, max_depth=10, n_estimators=100 \n"
          ],
          "name": "stdout"
        },
        {
          "output_type": "stream",
          "text": [
            "[Parallel(n_jobs=1)]: Done   2 out of   2 | elapsed:   14.2s remaining:    0.0s\n"
          ],
          "name": "stderr"
        },
        {
          "output_type": "stream",
          "text": [
            "[CV]  class_weight={0: 0.02165645563875651, 1: 0.32611451478708114, 2: 0.32611451478708114, 3: 0.32611451478708114}, criterion=gini, max_depth=10, n_estimators=100, score=0.396, total=   7.2s\n",
            "[CV] class_weight={0: 0.02165645563875651, 1: 0.32611451478708114, 2: 0.32611451478708114, 3: 0.32611451478708114}, criterion=gini, max_depth=10, n_estimators=100 \n"
          ],
          "name": "stdout"
        },
        {
          "output_type": "stream",
          "text": [
            "[Parallel(n_jobs=1)]: Done   3 out of   3 | elapsed:   21.4s remaining:    0.0s\n"
          ],
          "name": "stderr"
        },
        {
          "output_type": "stream",
          "text": [
            "[CV]  class_weight={0: 0.02165645563875651, 1: 0.32611451478708114, 2: 0.32611451478708114, 3: 0.32611451478708114}, criterion=gini, max_depth=10, n_estimators=100, score=0.409, total=   7.2s\n",
            "[CV] class_weight={0: 0.02165645563875651, 1: 0.32611451478708114, 2: 0.32611451478708114, 3: 0.32611451478708114}, criterion=gini, max_depth=10, n_estimators=100 \n",
            "[CV]  class_weight={0: 0.02165645563875651, 1: 0.32611451478708114, 2: 0.32611451478708114, 3: 0.32611451478708114}, criterion=gini, max_depth=10, n_estimators=100, score=0.405, total=   7.1s\n",
            "[CV] class_weight={0: 0.02165645563875651, 1: 0.32611451478708114, 2: 0.32611451478708114, 3: 0.32611451478708114}, criterion=gini, max_depth=10, n_estimators=200 \n",
            "[CV]  class_weight={0: 0.02165645563875651, 1: 0.32611451478708114, 2: 0.32611451478708114, 3: 0.32611451478708114}, criterion=gini, max_depth=10, n_estimators=200, score=0.404, total=  14.4s\n",
            "[CV] class_weight={0: 0.02165645563875651, 1: 0.32611451478708114, 2: 0.32611451478708114, 3: 0.32611451478708114}, criterion=gini, max_depth=10, n_estimators=200 \n",
            "[CV]  class_weight={0: 0.02165645563875651, 1: 0.32611451478708114, 2: 0.32611451478708114, 3: 0.32611451478708114}, criterion=gini, max_depth=10, n_estimators=200, score=0.417, total=  14.3s\n",
            "[CV] class_weight={0: 0.02165645563875651, 1: 0.32611451478708114, 2: 0.32611451478708114, 3: 0.32611451478708114}, criterion=gini, max_depth=10, n_estimators=200 \n",
            "[CV]  class_weight={0: 0.02165645563875651, 1: 0.32611451478708114, 2: 0.32611451478708114, 3: 0.32611451478708114}, criterion=gini, max_depth=10, n_estimators=200, score=0.406, total=  14.4s\n",
            "[CV] class_weight={0: 0.02165645563875651, 1: 0.32611451478708114, 2: 0.32611451478708114, 3: 0.32611451478708114}, criterion=gini, max_depth=10, n_estimators=200 \n",
            "[CV]  class_weight={0: 0.02165645563875651, 1: 0.32611451478708114, 2: 0.32611451478708114, 3: 0.32611451478708114}, criterion=gini, max_depth=10, n_estimators=200, score=0.407, total=  14.3s\n",
            "[CV] class_weight={0: 0.02165645563875651, 1: 0.32611451478708114, 2: 0.32611451478708114, 3: 0.32611451478708114}, criterion=gini, max_depth=10, n_estimators=200 \n",
            "[CV]  class_weight={0: 0.02165645563875651, 1: 0.32611451478708114, 2: 0.32611451478708114, 3: 0.32611451478708114}, criterion=gini, max_depth=10, n_estimators=200, score=0.409, total=  14.5s\n",
            "[CV] class_weight={0: 0.02165645563875651, 1: 0.32611451478708114, 2: 0.32611451478708114, 3: 0.32611451478708114}, criterion=gini, max_depth=10, n_estimators=300 \n",
            "[CV]  class_weight={0: 0.02165645563875651, 1: 0.32611451478708114, 2: 0.32611451478708114, 3: 0.32611451478708114}, criterion=gini, max_depth=10, n_estimators=300, score=0.406, total=  21.6s\n",
            "[CV] class_weight={0: 0.02165645563875651, 1: 0.32611451478708114, 2: 0.32611451478708114, 3: 0.32611451478708114}, criterion=gini, max_depth=10, n_estimators=300 \n",
            "[CV]  class_weight={0: 0.02165645563875651, 1: 0.32611451478708114, 2: 0.32611451478708114, 3: 0.32611451478708114}, criterion=gini, max_depth=10, n_estimators=300, score=0.409, total=  21.4s\n",
            "[CV] class_weight={0: 0.02165645563875651, 1: 0.32611451478708114, 2: 0.32611451478708114, 3: 0.32611451478708114}, criterion=gini, max_depth=10, n_estimators=300 \n",
            "[CV]  class_weight={0: 0.02165645563875651, 1: 0.32611451478708114, 2: 0.32611451478708114, 3: 0.32611451478708114}, criterion=gini, max_depth=10, n_estimators=300, score=0.400, total=  21.8s\n",
            "[CV] class_weight={0: 0.02165645563875651, 1: 0.32611451478708114, 2: 0.32611451478708114, 3: 0.32611451478708114}, criterion=gini, max_depth=10, n_estimators=300 \n",
            "[CV]  class_weight={0: 0.02165645563875651, 1: 0.32611451478708114, 2: 0.32611451478708114, 3: 0.32611451478708114}, criterion=gini, max_depth=10, n_estimators=300, score=0.405, total=  21.6s\n",
            "[CV] class_weight={0: 0.02165645563875651, 1: 0.32611451478708114, 2: 0.32611451478708114, 3: 0.32611451478708114}, criterion=gini, max_depth=10, n_estimators=300 \n",
            "[CV]  class_weight={0: 0.02165645563875651, 1: 0.32611451478708114, 2: 0.32611451478708114, 3: 0.32611451478708114}, criterion=gini, max_depth=10, n_estimators=300, score=0.402, total=  21.7s\n",
            "[CV] class_weight={0: 0.02165645563875651, 1: 0.32611451478708114, 2: 0.32611451478708114, 3: 0.32611451478708114}, criterion=gini, max_depth=20, n_estimators=100 \n",
            "[CV]  class_weight={0: 0.02165645563875651, 1: 0.32611451478708114, 2: 0.32611451478708114, 3: 0.32611451478708114}, criterion=gini, max_depth=20, n_estimators=100, score=0.333, total=  10.7s\n",
            "[CV] class_weight={0: 0.02165645563875651, 1: 0.32611451478708114, 2: 0.32611451478708114, 3: 0.32611451478708114}, criterion=gini, max_depth=20, n_estimators=100 \n",
            "[CV]  class_weight={0: 0.02165645563875651, 1: 0.32611451478708114, 2: 0.32611451478708114, 3: 0.32611451478708114}, criterion=gini, max_depth=20, n_estimators=100, score=0.329, total=  10.5s\n",
            "[CV] class_weight={0: 0.02165645563875651, 1: 0.32611451478708114, 2: 0.32611451478708114, 3: 0.32611451478708114}, criterion=gini, max_depth=20, n_estimators=100 \n",
            "[CV]  class_weight={0: 0.02165645563875651, 1: 0.32611451478708114, 2: 0.32611451478708114, 3: 0.32611451478708114}, criterion=gini, max_depth=20, n_estimators=100, score=0.340, total=  10.9s\n",
            "[CV] class_weight={0: 0.02165645563875651, 1: 0.32611451478708114, 2: 0.32611451478708114, 3: 0.32611451478708114}, criterion=gini, max_depth=20, n_estimators=100 \n",
            "[CV]  class_weight={0: 0.02165645563875651, 1: 0.32611451478708114, 2: 0.32611451478708114, 3: 0.32611451478708114}, criterion=gini, max_depth=20, n_estimators=100, score=0.336, total=  10.8s\n",
            "[CV] class_weight={0: 0.02165645563875651, 1: 0.32611451478708114, 2: 0.32611451478708114, 3: 0.32611451478708114}, criterion=gini, max_depth=20, n_estimators=100 \n",
            "[CV]  class_weight={0: 0.02165645563875651, 1: 0.32611451478708114, 2: 0.32611451478708114, 3: 0.32611451478708114}, criterion=gini, max_depth=20, n_estimators=100, score=0.336, total=  10.8s\n",
            "[CV] class_weight={0: 0.02165645563875651, 1: 0.32611451478708114, 2: 0.32611451478708114, 3: 0.32611451478708114}, criterion=gini, max_depth=20, n_estimators=200 \n",
            "[CV]  class_weight={0: 0.02165645563875651, 1: 0.32611451478708114, 2: 0.32611451478708114, 3: 0.32611451478708114}, criterion=gini, max_depth=20, n_estimators=200, score=0.335, total=  21.1s\n",
            "[CV] class_weight={0: 0.02165645563875651, 1: 0.32611451478708114, 2: 0.32611451478708114, 3: 0.32611451478708114}, criterion=gini, max_depth=20, n_estimators=200 \n",
            "[CV]  class_weight={0: 0.02165645563875651, 1: 0.32611451478708114, 2: 0.32611451478708114, 3: 0.32611451478708114}, criterion=gini, max_depth=20, n_estimators=200, score=0.334, total=  20.7s\n",
            "[CV] class_weight={0: 0.02165645563875651, 1: 0.32611451478708114, 2: 0.32611451478708114, 3: 0.32611451478708114}, criterion=gini, max_depth=20, n_estimators=200 \n",
            "[CV]  class_weight={0: 0.02165645563875651, 1: 0.32611451478708114, 2: 0.32611451478708114, 3: 0.32611451478708114}, criterion=gini, max_depth=20, n_estimators=200, score=0.342, total=  20.3s\n",
            "[CV] class_weight={0: 0.02165645563875651, 1: 0.32611451478708114, 2: 0.32611451478708114, 3: 0.32611451478708114}, criterion=gini, max_depth=20, n_estimators=200 \n",
            "[CV]  class_weight={0: 0.02165645563875651, 1: 0.32611451478708114, 2: 0.32611451478708114, 3: 0.32611451478708114}, criterion=gini, max_depth=20, n_estimators=200, score=0.334, total=  21.1s\n",
            "[CV] class_weight={0: 0.02165645563875651, 1: 0.32611451478708114, 2: 0.32611451478708114, 3: 0.32611451478708114}, criterion=gini, max_depth=20, n_estimators=200 \n",
            "[CV]  class_weight={0: 0.02165645563875651, 1: 0.32611451478708114, 2: 0.32611451478708114, 3: 0.32611451478708114}, criterion=gini, max_depth=20, n_estimators=200, score=0.322, total=  20.7s\n",
            "[CV] class_weight={0: 0.02165645563875651, 1: 0.32611451478708114, 2: 0.32611451478708114, 3: 0.32611451478708114}, criterion=gini, max_depth=20, n_estimators=300 \n",
            "[CV]  class_weight={0: 0.02165645563875651, 1: 0.32611451478708114, 2: 0.32611451478708114, 3: 0.32611451478708114}, criterion=gini, max_depth=20, n_estimators=300, score=0.335, total=  31.2s\n",
            "[CV] class_weight={0: 0.02165645563875651, 1: 0.32611451478708114, 2: 0.32611451478708114, 3: 0.32611451478708114}, criterion=gini, max_depth=20, n_estimators=300 \n",
            "[CV]  class_weight={0: 0.02165645563875651, 1: 0.32611451478708114, 2: 0.32611451478708114, 3: 0.32611451478708114}, criterion=gini, max_depth=20, n_estimators=300, score=0.334, total=  31.1s\n",
            "[CV] class_weight={0: 0.02165645563875651, 1: 0.32611451478708114, 2: 0.32611451478708114, 3: 0.32611451478708114}, criterion=gini, max_depth=20, n_estimators=300 \n",
            "[CV]  class_weight={0: 0.02165645563875651, 1: 0.32611451478708114, 2: 0.32611451478708114, 3: 0.32611451478708114}, criterion=gini, max_depth=20, n_estimators=300, score=0.335, total=  30.8s\n",
            "[CV] class_weight={0: 0.02165645563875651, 1: 0.32611451478708114, 2: 0.32611451478708114, 3: 0.32611451478708114}, criterion=gini, max_depth=20, n_estimators=300 \n",
            "[CV]  class_weight={0: 0.02165645563875651, 1: 0.32611451478708114, 2: 0.32611451478708114, 3: 0.32611451478708114}, criterion=gini, max_depth=20, n_estimators=300, score=0.331, total=  31.0s\n",
            "[CV] class_weight={0: 0.02165645563875651, 1: 0.32611451478708114, 2: 0.32611451478708114, 3: 0.32611451478708114}, criterion=gini, max_depth=20, n_estimators=300 \n",
            "[CV]  class_weight={0: 0.02165645563875651, 1: 0.32611451478708114, 2: 0.32611451478708114, 3: 0.32611451478708114}, criterion=gini, max_depth=20, n_estimators=300, score=0.322, total=  31.2s\n",
            "[CV] class_weight={0: 0.02165645563875651, 1: 0.32611451478708114, 2: 0.32611451478708114, 3: 0.32611451478708114}, criterion=gini, max_depth=50, n_estimators=100 \n",
            "[CV]  class_weight={0: 0.02165645563875651, 1: 0.32611451478708114, 2: 0.32611451478708114, 3: 0.32611451478708114}, criterion=gini, max_depth=50, n_estimators=100, score=0.317, total=  10.8s\n",
            "[CV] class_weight={0: 0.02165645563875651, 1: 0.32611451478708114, 2: 0.32611451478708114, 3: 0.32611451478708114}, criterion=gini, max_depth=50, n_estimators=100 \n",
            "[CV]  class_weight={0: 0.02165645563875651, 1: 0.32611451478708114, 2: 0.32611451478708114, 3: 0.32611451478708114}, criterion=gini, max_depth=50, n_estimators=100, score=0.321, total=  10.7s\n",
            "[CV] class_weight={0: 0.02165645563875651, 1: 0.32611451478708114, 2: 0.32611451478708114, 3: 0.32611451478708114}, criterion=gini, max_depth=50, n_estimators=100 \n",
            "[CV]  class_weight={0: 0.02165645563875651, 1: 0.32611451478708114, 2: 0.32611451478708114, 3: 0.32611451478708114}, criterion=gini, max_depth=50, n_estimators=100, score=0.325, total=  10.8s\n",
            "[CV] class_weight={0: 0.02165645563875651, 1: 0.32611451478708114, 2: 0.32611451478708114, 3: 0.32611451478708114}, criterion=gini, max_depth=50, n_estimators=100 \n",
            "[CV]  class_weight={0: 0.02165645563875651, 1: 0.32611451478708114, 2: 0.32611451478708114, 3: 0.32611451478708114}, criterion=gini, max_depth=50, n_estimators=100, score=0.323, total=  10.8s\n",
            "[CV] class_weight={0: 0.02165645563875651, 1: 0.32611451478708114, 2: 0.32611451478708114, 3: 0.32611451478708114}, criterion=gini, max_depth=50, n_estimators=100 \n",
            "[CV]  class_weight={0: 0.02165645563875651, 1: 0.32611451478708114, 2: 0.32611451478708114, 3: 0.32611451478708114}, criterion=gini, max_depth=50, n_estimators=100, score=0.317, total=  10.6s\n",
            "[CV] class_weight={0: 0.02165645563875651, 1: 0.32611451478708114, 2: 0.32611451478708114, 3: 0.32611451478708114}, criterion=gini, max_depth=50, n_estimators=200 \n",
            "[CV]  class_weight={0: 0.02165645563875651, 1: 0.32611451478708114, 2: 0.32611451478708114, 3: 0.32611451478708114}, criterion=gini, max_depth=50, n_estimators=200, score=0.320, total=  21.2s\n",
            "[CV] class_weight={0: 0.02165645563875651, 1: 0.32611451478708114, 2: 0.32611451478708114, 3: 0.32611451478708114}, criterion=gini, max_depth=50, n_estimators=200 \n",
            "[CV]  class_weight={0: 0.02165645563875651, 1: 0.32611451478708114, 2: 0.32611451478708114, 3: 0.32611451478708114}, criterion=gini, max_depth=50, n_estimators=200, score=0.317, total=  21.1s\n",
            "[CV] class_weight={0: 0.02165645563875651, 1: 0.32611451478708114, 2: 0.32611451478708114, 3: 0.32611451478708114}, criterion=gini, max_depth=50, n_estimators=200 \n",
            "[CV]  class_weight={0: 0.02165645563875651, 1: 0.32611451478708114, 2: 0.32611451478708114, 3: 0.32611451478708114}, criterion=gini, max_depth=50, n_estimators=200, score=0.324, total=  21.3s\n",
            "[CV] class_weight={0: 0.02165645563875651, 1: 0.32611451478708114, 2: 0.32611451478708114, 3: 0.32611451478708114}, criterion=gini, max_depth=50, n_estimators=200 \n",
            "[CV]  class_weight={0: 0.02165645563875651, 1: 0.32611451478708114, 2: 0.32611451478708114, 3: 0.32611451478708114}, criterion=gini, max_depth=50, n_estimators=200, score=0.318, total=  21.6s\n",
            "[CV] class_weight={0: 0.02165645563875651, 1: 0.32611451478708114, 2: 0.32611451478708114, 3: 0.32611451478708114}, criterion=gini, max_depth=50, n_estimators=200 \n",
            "[CV]  class_weight={0: 0.02165645563875651, 1: 0.32611451478708114, 2: 0.32611451478708114, 3: 0.32611451478708114}, criterion=gini, max_depth=50, n_estimators=200, score=0.314, total=  21.3s\n",
            "[CV] class_weight={0: 0.02165645563875651, 1: 0.32611451478708114, 2: 0.32611451478708114, 3: 0.32611451478708114}, criterion=gini, max_depth=50, n_estimators=300 \n",
            "[CV]  class_weight={0: 0.02165645563875651, 1: 0.32611451478708114, 2: 0.32611451478708114, 3: 0.32611451478708114}, criterion=gini, max_depth=50, n_estimators=300, score=0.320, total=  31.0s\n",
            "[CV] class_weight={0: 0.02165645563875651, 1: 0.32611451478708114, 2: 0.32611451478708114, 3: 0.32611451478708114}, criterion=gini, max_depth=50, n_estimators=300 \n",
            "[CV]  class_weight={0: 0.02165645563875651, 1: 0.32611451478708114, 2: 0.32611451478708114, 3: 0.32611451478708114}, criterion=gini, max_depth=50, n_estimators=300, score=0.314, total=  31.4s\n",
            "[CV] class_weight={0: 0.02165645563875651, 1: 0.32611451478708114, 2: 0.32611451478708114, 3: 0.32611451478708114}, criterion=gini, max_depth=50, n_estimators=300 \n",
            "[CV]  class_weight={0: 0.02165645563875651, 1: 0.32611451478708114, 2: 0.32611451478708114, 3: 0.32611451478708114}, criterion=gini, max_depth=50, n_estimators=300, score=0.320, total=  31.7s\n",
            "[CV] class_weight={0: 0.02165645563875651, 1: 0.32611451478708114, 2: 0.32611451478708114, 3: 0.32611451478708114}, criterion=gini, max_depth=50, n_estimators=300 \n",
            "[CV]  class_weight={0: 0.02165645563875651, 1: 0.32611451478708114, 2: 0.32611451478708114, 3: 0.32611451478708114}, criterion=gini, max_depth=50, n_estimators=300, score=0.321, total=  31.9s\n",
            "[CV] class_weight={0: 0.02165645563875651, 1: 0.32611451478708114, 2: 0.32611451478708114, 3: 0.32611451478708114}, criterion=gini, max_depth=50, n_estimators=300 \n",
            "[CV]  class_weight={0: 0.02165645563875651, 1: 0.32611451478708114, 2: 0.32611451478708114, 3: 0.32611451478708114}, criterion=gini, max_depth=50, n_estimators=300, score=0.305, total=  32.2s\n"
          ],
          "name": "stdout"
        },
        {
          "output_type": "stream",
          "text": [
            "[Parallel(n_jobs=1)]: Done  45 out of  45 | elapsed: 14.1min finished\n"
          ],
          "name": "stderr"
        },
        {
          "output_type": "execute_result",
          "data": {
            "text/plain": [
              "GridSearchCV(cv=StratifiedKFold(n_splits=5, random_state=30, shuffle=True),\n",
              "             error_score=nan,\n",
              "             estimator=RandomForestClassifier(bootstrap=True, ccp_alpha=0.0,\n",
              "                                              class_weight=None,\n",
              "                                              criterion='gini', max_depth=None,\n",
              "                                              max_features='auto',\n",
              "                                              max_leaf_nodes=None,\n",
              "                                              max_samples=None,\n",
              "                                              min_impurity_decrease=0.0,\n",
              "                                              min_impurity_split=None,\n",
              "                                              min_samples_leaf=1,\n",
              "                                              min_samples_split=2,\n",
              "                                              min...\n",
              "                                              warm_start=False),\n",
              "             iid='deprecated', n_jobs=None,\n",
              "             param_grid={'class_weight': [{0: 0.02165645563875651,\n",
              "                                           1: 0.32611451478708114,\n",
              "                                           2: 0.32611451478708114,\n",
              "                                           3: 0.32611451478708114}],\n",
              "                         'criterion': ['gini'], 'max_depth': [10, 20, 50],\n",
              "                         'n_estimators': [100, 200, 300]},\n",
              "             pre_dispatch='2*n_jobs', refit=True, return_train_score=False,\n",
              "             scoring=make_scorer(f1_score, average=macro), verbose=4)"
            ]
          },
          "metadata": {
            "tags": []
          },
          "execution_count": 63
        }
      ]
    },
    {
      "cell_type": "code",
      "metadata": {
        "colab": {
          "base_uri": "https://localhost:8080/"
        },
        "id": "iemJnzLaH0ck",
        "outputId": "859c56d7-1e59-4575-97f2-ff830234c9c7"
      },
      "source": [
        "best_wt_rf_clf = print_grid_clf_summary(rf_wt_grid_clf, rf_wt_params_grid)"
      ],
      "execution_count": 64,
      "outputs": [
        {
          "output_type": "stream",
          "text": [
            "Best Score: 0.4086420545946708\n",
            "Best Parameters:\n",
            "\tclass_weight: {0: 0.02165645563875651, 1: 0.32611451478708114, 2: 0.32611451478708114, 3: 0.32611451478708114}\n",
            "\tcriterion: gini\n",
            "\tmax_depth: 10\n",
            "\tn_estimators: 200\n"
          ],
          "name": "stdout"
        }
      ]
    },
    {
      "cell_type": "code",
      "metadata": {
        "colab": {
          "base_uri": "https://localhost:8080/",
          "height": 265
        },
        "id": "jDhpiTOm1KDv",
        "outputId": "225cccf6-90bb-49aa-f1b2-7ffbb94d8345"
      },
      "source": [
        "plot_feature_importance(best_wt_rf_clf, full_features)"
      ],
      "execution_count": 65,
      "outputs": [
        {
          "output_type": "display_data",
          "data": {
            "image/png": "[encoded data removed]",
            "text/plain": [
              "<Figure size 432x288 with 1 Axes>"
            ]
          },
          "metadata": {
            "tags": [],
            "needs_background": "light"
          }
        }
      ]
    },
    {
      "cell_type": "markdown",
      "metadata": {
        "id": "PbfeNGXG1UGt"
      },
      "source": [
        "1. Team_Margin - 4\r\n",
        "2. Disposals - 2\r\n",
        "3. Kicks - 1\r\n",
        "4. Marks\r\n",
        "5. Handballs \r\n",
        "6. Goals - 5\r\n",
        "7. Behinds\r\n",
        "8. Rebounds\r\n",
        "9. Inside 50s\r\n",
        "10. Contested Pos - 3\r\n",
        "11. Uncontested Pos - 6\r\n",
        "12. Time On Ground\r\n",
        "13. Is_Home_Team\r\n",
        "14. Team_Score\r\n",
        "\r\n",
        "The top 6 most significant features used in the classification by the Random Forest model, has used the features from the list obtained by performing visual EDA. Therefore, further modelling can be done by using only these shortlisted features and measure performance."
      ]
    },
    {
      "cell_type": "markdown",
      "metadata": {
        "id": "74ZU507b3LoY"
      },
      "source": [
        "## Logistic Regression (Class Weighted)\r\n",
        "\r\n",
        "Using a weighted class method since we have observed that class weights give better performance due the inherent nature of our dataset which has a significantly higher Brownlow Vote 0 players\r\n",
        "\r\n",
        "The Logistic Regression is set to use the L1 Regularizer since it can perform feature selection by zeroing out insignificant features. Since we are extrapolating the feature space to higher degree with degreee 2, this would help train a parinomious model."
      ]
    },
    {
      "cell_type": "code",
      "metadata": {
        "colab": {
          "base_uri": "https://localhost:8080/"
        },
        "id": "ibCl1OZKI9M3",
        "outputId": "884faffb-3e9b-4ede-a013-a0e280e96fed"
      },
      "source": [
        "from sklearn.preprocessing import StandardScaler\r\n",
        "\r\n",
        "scaler = StandardScaler()\r\n",
        "scaler.fit(AFL_Train[full_features])"
      ],
      "execution_count": 73,
      "outputs": [
        {
          "output_type": "execute_result",
          "data": {
            "text/plain": [
              "StandardScaler(copy=True, with_mean=True, with_std=True)"
            ]
          },
          "metadata": {
            "tags": []
          },
          "execution_count": 73
        }
      ]
    },
    {
      "cell_type": "code",
      "metadata": {
        "id": "5xsB9oFLJLiv"
      },
      "source": [
        "scaled_train = scaler.transform(AFL_Train[full_features])"
      ],
      "execution_count": 74,
      "outputs": []
    },
    {
      "cell_type": "markdown",
      "metadata": {
        "id": "OPetOU5TApGH"
      },
      "source": [
        "Creating Polynomial features with degree 2 and interaction effect included"
      ]
    },
    {
      "cell_type": "code",
      "metadata": {
        "colab": {
          "base_uri": "https://localhost:8080/"
        },
        "id": "KxkqZiMD_tOg",
        "outputId": "0819d3b0-de7a-43a2-c2c5-b0c98f4c6919"
      },
      "source": [
        "from sklearn import preprocessing\r\n",
        "\r\n",
        "pf = preprocessing.PolynomialFeatures(\r\n",
        "    degree=2,\r\n",
        "    interaction_only = False,\r\n",
        "    include_bias = True)\r\n",
        "\r\n",
        "pf.fit(scaled_train)\r\n"
      ],
      "execution_count": 75,
      "outputs": [
        {
          "output_type": "execute_result",
          "data": {
            "text/plain": [
              "PolynomialFeatures(degree=2, include_bias=True, interaction_only=False,\n",
              "                   order='C')"
            ]
          },
          "metadata": {
            "tags": []
          },
          "execution_count": 75
        }
      ]
    },
    {
      "cell_type": "code",
      "metadata": {
        "id": "ymJ4qJ9lAW03"
      },
      "source": [
        "AFL_poly_feats = pf.transform(scaled_train)"
      ],
      "execution_count": 76,
      "outputs": []
    },
    {
      "cell_type": "code",
      "metadata": {
        "id": "W3KtpfBH3eOp"
      },
      "source": [
        "from sklearn.linear_model import LogisticRegression\r\n",
        "\r\n",
        "lr_params_grid = {\r\n",
        "    \"C\": [1,10,100],\r\n",
        "    \"class_weight\": [weights]\r\n",
        "    }\r\n",
        "\r\n",
        "lr_clf = LogisticRegression(penalty =\"l1\", multi_class = \"ovr\", solver = \"saga\")\r\n",
        "\r\n",
        "lr_grid_clf = GridSearchCV(\r\n",
        "    estimator = lr_clf, \r\n",
        "    param_grid = lr_params_grid, \r\n",
        "    scoring = f1_scoring,\r\n",
        "    cv = cv, \r\n",
        "    verbose = 4)"
      ],
      "execution_count": 79,
      "outputs": []
    },
    {
      "cell_type": "code",
      "metadata": {
        "colab": {
          "base_uri": "https://localhost:8080/"
        },
        "id": "GZyDEIse5kZY",
        "outputId": "bc875c3d-140d-48e0-ee9c-f7d82d9f2c64"
      },
      "source": [
        "lr_grid_clf.fit(AFL_poly_feats, AFL_Train[LABEL_FIELD_NAME])"
      ],
      "execution_count": 80,
      "outputs": [
        {
          "output_type": "stream",
          "text": [
            "Fitting 5 folds for each of 3 candidates, totalling 15 fits\n",
            "[CV] C=1, class_weight={0: 0.02165645563875651, 1: 0.32611451478708114, 2: 0.32611451478708114, 3: 0.32611451478708114} \n"
          ],
          "name": "stdout"
        },
        {
          "output_type": "stream",
          "text": [
            "[Parallel(n_jobs=1)]: Using backend SequentialBackend with 1 concurrent workers.\n",
            "/usr/local/lib/python3.6/dist-packages/sklearn/linear_model/_sag.py:330: ConvergenceWarning: The max_iter was reached which means the coef_ did not converge\n",
            "  \"the coef_ did not converge\", ConvergenceWarning)\n",
            "/usr/local/lib/python3.6/dist-packages/sklearn/linear_model/_sag.py:330: ConvergenceWarning: The max_iter was reached which means the coef_ did not converge\n",
            "  \"the coef_ did not converge\", ConvergenceWarning)\n",
            "/usr/local/lib/python3.6/dist-packages/sklearn/linear_model/_sag.py:330: ConvergenceWarning: The max_iter was reached which means the coef_ did not converge\n",
            "  \"the coef_ did not converge\", ConvergenceWarning)\n",
            "/usr/local/lib/python3.6/dist-packages/sklearn/linear_model/_sag.py:330: ConvergenceWarning: The max_iter was reached which means the coef_ did not converge\n",
            "  \"the coef_ did not converge\", ConvergenceWarning)\n",
            "[Parallel(n_jobs=1)]: Done   1 out of   1 | elapsed:  3.5min remaining:    0.0s\n"
          ],
          "name": "stderr"
        },
        {
          "output_type": "stream",
          "text": [
            "[CV]  C=1, class_weight={0: 0.02165645563875651, 1: 0.32611451478708114, 2: 0.32611451478708114, 3: 0.32611451478708114}, score=0.408, total= 3.5min\n",
            "[CV] C=1, class_weight={0: 0.02165645563875651, 1: 0.32611451478708114, 2: 0.32611451478708114, 3: 0.32611451478708114} \n"
          ],
          "name": "stdout"
        },
        {
          "output_type": "stream",
          "text": [
            "/usr/local/lib/python3.6/dist-packages/sklearn/linear_model/_sag.py:330: ConvergenceWarning: The max_iter was reached which means the coef_ did not converge\n",
            "  \"the coef_ did not converge\", ConvergenceWarning)\n",
            "/usr/local/lib/python3.6/dist-packages/sklearn/linear_model/_sag.py:330: ConvergenceWarning: The max_iter was reached which means the coef_ did not converge\n",
            "  \"the coef_ did not converge\", ConvergenceWarning)\n",
            "/usr/local/lib/python3.6/dist-packages/sklearn/linear_model/_sag.py:330: ConvergenceWarning: The max_iter was reached which means the coef_ did not converge\n",
            "  \"the coef_ did not converge\", ConvergenceWarning)\n",
            "/usr/local/lib/python3.6/dist-packages/sklearn/linear_model/_sag.py:330: ConvergenceWarning: The max_iter was reached which means the coef_ did not converge\n",
            "  \"the coef_ did not converge\", ConvergenceWarning)\n",
            "[Parallel(n_jobs=1)]: Done   2 out of   2 | elapsed:  6.9min remaining:    0.0s\n"
          ],
          "name": "stderr"
        },
        {
          "output_type": "stream",
          "text": [
            "[CV]  C=1, class_weight={0: 0.02165645563875651, 1: 0.32611451478708114, 2: 0.32611451478708114, 3: 0.32611451478708114}, score=0.404, total= 3.5min\n",
            "[CV] C=1, class_weight={0: 0.02165645563875651, 1: 0.32611451478708114, 2: 0.32611451478708114, 3: 0.32611451478708114} \n"
          ],
          "name": "stdout"
        },
        {
          "output_type": "stream",
          "text": [
            "/usr/local/lib/python3.6/dist-packages/sklearn/linear_model/_sag.py:330: ConvergenceWarning: The max_iter was reached which means the coef_ did not converge\n",
            "  \"the coef_ did not converge\", ConvergenceWarning)\n",
            "/usr/local/lib/python3.6/dist-packages/sklearn/linear_model/_sag.py:330: ConvergenceWarning: The max_iter was reached which means the coef_ did not converge\n",
            "  \"the coef_ did not converge\", ConvergenceWarning)\n",
            "/usr/local/lib/python3.6/dist-packages/sklearn/linear_model/_sag.py:330: ConvergenceWarning: The max_iter was reached which means the coef_ did not converge\n",
            "  \"the coef_ did not converge\", ConvergenceWarning)\n",
            "/usr/local/lib/python3.6/dist-packages/sklearn/linear_model/_sag.py:330: ConvergenceWarning: The max_iter was reached which means the coef_ did not converge\n",
            "  \"the coef_ did not converge\", ConvergenceWarning)\n",
            "[Parallel(n_jobs=1)]: Done   3 out of   3 | elapsed: 10.4min remaining:    0.0s\n"
          ],
          "name": "stderr"
        },
        {
          "output_type": "stream",
          "text": [
            "[CV]  C=1, class_weight={0: 0.02165645563875651, 1: 0.32611451478708114, 2: 0.32611451478708114, 3: 0.32611451478708114}, score=0.399, total= 3.5min\n",
            "[CV] C=1, class_weight={0: 0.02165645563875651, 1: 0.32611451478708114, 2: 0.32611451478708114, 3: 0.32611451478708114} \n"
          ],
          "name": "stdout"
        },
        {
          "output_type": "stream",
          "text": [
            "/usr/local/lib/python3.6/dist-packages/sklearn/linear_model/_sag.py:330: ConvergenceWarning: The max_iter was reached which means the coef_ did not converge\n",
            "  \"the coef_ did not converge\", ConvergenceWarning)\n",
            "/usr/local/lib/python3.6/dist-packages/sklearn/linear_model/_sag.py:330: ConvergenceWarning: The max_iter was reached which means the coef_ did not converge\n",
            "  \"the coef_ did not converge\", ConvergenceWarning)\n",
            "/usr/local/lib/python3.6/dist-packages/sklearn/linear_model/_sag.py:330: ConvergenceWarning: The max_iter was reached which means the coef_ did not converge\n",
            "  \"the coef_ did not converge\", ConvergenceWarning)\n",
            "/usr/local/lib/python3.6/dist-packages/sklearn/linear_model/_sag.py:330: ConvergenceWarning: The max_iter was reached which means the coef_ did not converge\n",
            "  \"the coef_ did not converge\", ConvergenceWarning)\n"
          ],
          "name": "stderr"
        },
        {
          "output_type": "stream",
          "text": [
            "[CV]  C=1, class_weight={0: 0.02165645563875651, 1: 0.32611451478708114, 2: 0.32611451478708114, 3: 0.32611451478708114}, score=0.404, total= 3.5min\n",
            "[CV] C=1, class_weight={0: 0.02165645563875651, 1: 0.32611451478708114, 2: 0.32611451478708114, 3: 0.32611451478708114} \n"
          ],
          "name": "stdout"
        },
        {
          "output_type": "stream",
          "text": [
            "/usr/local/lib/python3.6/dist-packages/sklearn/linear_model/_sag.py:330: ConvergenceWarning: The max_iter was reached which means the coef_ did not converge\n",
            "  \"the coef_ did not converge\", ConvergenceWarning)\n",
            "/usr/local/lib/python3.6/dist-packages/sklearn/linear_model/_sag.py:330: ConvergenceWarning: The max_iter was reached which means the coef_ did not converge\n",
            "  \"the coef_ did not converge\", ConvergenceWarning)\n",
            "/usr/local/lib/python3.6/dist-packages/sklearn/linear_model/_sag.py:330: ConvergenceWarning: The max_iter was reached which means the coef_ did not converge\n",
            "  \"the coef_ did not converge\", ConvergenceWarning)\n",
            "/usr/local/lib/python3.6/dist-packages/sklearn/linear_model/_sag.py:330: ConvergenceWarning: The max_iter was reached which means the coef_ did not converge\n",
            "  \"the coef_ did not converge\", ConvergenceWarning)\n"
          ],
          "name": "stderr"
        },
        {
          "output_type": "stream",
          "text": [
            "[CV]  C=1, class_weight={0: 0.02165645563875651, 1: 0.32611451478708114, 2: 0.32611451478708114, 3: 0.32611451478708114}, score=0.410, total= 3.5min\n",
            "[CV] C=10, class_weight={0: 0.02165645563875651, 1: 0.32611451478708114, 2: 0.32611451478708114, 3: 0.32611451478708114} \n"
          ],
          "name": "stdout"
        },
        {
          "output_type": "stream",
          "text": [
            "/usr/local/lib/python3.6/dist-packages/sklearn/linear_model/_sag.py:330: ConvergenceWarning: The max_iter was reached which means the coef_ did not converge\n",
            "  \"the coef_ did not converge\", ConvergenceWarning)\n",
            "/usr/local/lib/python3.6/dist-packages/sklearn/linear_model/_sag.py:330: ConvergenceWarning: The max_iter was reached which means the coef_ did not converge\n",
            "  \"the coef_ did not converge\", ConvergenceWarning)\n",
            "/usr/local/lib/python3.6/dist-packages/sklearn/linear_model/_sag.py:330: ConvergenceWarning: The max_iter was reached which means the coef_ did not converge\n",
            "  \"the coef_ did not converge\", ConvergenceWarning)\n",
            "/usr/local/lib/python3.6/dist-packages/sklearn/linear_model/_sag.py:330: ConvergenceWarning: The max_iter was reached which means the coef_ did not converge\n",
            "  \"the coef_ did not converge\", ConvergenceWarning)\n"
          ],
          "name": "stderr"
        },
        {
          "output_type": "stream",
          "text": [
            "[CV]  C=10, class_weight={0: 0.02165645563875651, 1: 0.32611451478708114, 2: 0.32611451478708114, 3: 0.32611451478708114}, score=0.411, total= 3.2min\n",
            "[CV] C=10, class_weight={0: 0.02165645563875651, 1: 0.32611451478708114, 2: 0.32611451478708114, 3: 0.32611451478708114} \n"
          ],
          "name": "stdout"
        },
        {
          "output_type": "stream",
          "text": [
            "/usr/local/lib/python3.6/dist-packages/sklearn/linear_model/_sag.py:330: ConvergenceWarning: The max_iter was reached which means the coef_ did not converge\n",
            "  \"the coef_ did not converge\", ConvergenceWarning)\n",
            "/usr/local/lib/python3.6/dist-packages/sklearn/linear_model/_sag.py:330: ConvergenceWarning: The max_iter was reached which means the coef_ did not converge\n",
            "  \"the coef_ did not converge\", ConvergenceWarning)\n",
            "/usr/local/lib/python3.6/dist-packages/sklearn/linear_model/_sag.py:330: ConvergenceWarning: The max_iter was reached which means the coef_ did not converge\n",
            "  \"the coef_ did not converge\", ConvergenceWarning)\n",
            "/usr/local/lib/python3.6/dist-packages/sklearn/linear_model/_sag.py:330: ConvergenceWarning: The max_iter was reached which means the coef_ did not converge\n",
            "  \"the coef_ did not converge\", ConvergenceWarning)\n"
          ],
          "name": "stderr"
        },
        {
          "output_type": "stream",
          "text": [
            "[CV]  C=10, class_weight={0: 0.02165645563875651, 1: 0.32611451478708114, 2: 0.32611451478708114, 3: 0.32611451478708114}, score=0.404, total= 3.3min\n",
            "[CV] C=10, class_weight={0: 0.02165645563875651, 1: 0.32611451478708114, 2: 0.32611451478708114, 3: 0.32611451478708114} \n"
          ],
          "name": "stdout"
        },
        {
          "output_type": "stream",
          "text": [
            "/usr/local/lib/python3.6/dist-packages/sklearn/linear_model/_sag.py:330: ConvergenceWarning: The max_iter was reached which means the coef_ did not converge\n",
            "  \"the coef_ did not converge\", ConvergenceWarning)\n",
            "/usr/local/lib/python3.6/dist-packages/sklearn/linear_model/_sag.py:330: ConvergenceWarning: The max_iter was reached which means the coef_ did not converge\n",
            "  \"the coef_ did not converge\", ConvergenceWarning)\n",
            "/usr/local/lib/python3.6/dist-packages/sklearn/linear_model/_sag.py:330: ConvergenceWarning: The max_iter was reached which means the coef_ did not converge\n",
            "  \"the coef_ did not converge\", ConvergenceWarning)\n",
            "/usr/local/lib/python3.6/dist-packages/sklearn/linear_model/_sag.py:330: ConvergenceWarning: The max_iter was reached which means the coef_ did not converge\n",
            "  \"the coef_ did not converge\", ConvergenceWarning)\n"
          ],
          "name": "stderr"
        },
        {
          "output_type": "stream",
          "text": [
            "[CV]  C=10, class_weight={0: 0.02165645563875651, 1: 0.32611451478708114, 2: 0.32611451478708114, 3: 0.32611451478708114}, score=0.398, total= 3.2min\n",
            "[CV] C=10, class_weight={0: 0.02165645563875651, 1: 0.32611451478708114, 2: 0.32611451478708114, 3: 0.32611451478708114} \n"
          ],
          "name": "stdout"
        },
        {
          "output_type": "stream",
          "text": [
            "/usr/local/lib/python3.6/dist-packages/sklearn/linear_model/_sag.py:330: ConvergenceWarning: The max_iter was reached which means the coef_ did not converge\n",
            "  \"the coef_ did not converge\", ConvergenceWarning)\n",
            "/usr/local/lib/python3.6/dist-packages/sklearn/linear_model/_sag.py:330: ConvergenceWarning: The max_iter was reached which means the coef_ did not converge\n",
            "  \"the coef_ did not converge\", ConvergenceWarning)\n",
            "/usr/local/lib/python3.6/dist-packages/sklearn/linear_model/_sag.py:330: ConvergenceWarning: The max_iter was reached which means the coef_ did not converge\n",
            "  \"the coef_ did not converge\", ConvergenceWarning)\n",
            "/usr/local/lib/python3.6/dist-packages/sklearn/linear_model/_sag.py:330: ConvergenceWarning: The max_iter was reached which means the coef_ did not converge\n",
            "  \"the coef_ did not converge\", ConvergenceWarning)\n"
          ],
          "name": "stderr"
        },
        {
          "output_type": "stream",
          "text": [
            "[CV]  C=10, class_weight={0: 0.02165645563875651, 1: 0.32611451478708114, 2: 0.32611451478708114, 3: 0.32611451478708114}, score=0.405, total= 3.2min\n",
            "[CV] C=10, class_weight={0: 0.02165645563875651, 1: 0.32611451478708114, 2: 0.32611451478708114, 3: 0.32611451478708114} \n"
          ],
          "name": "stdout"
        },
        {
          "output_type": "stream",
          "text": [
            "/usr/local/lib/python3.6/dist-packages/sklearn/linear_model/_sag.py:330: ConvergenceWarning: The max_iter was reached which means the coef_ did not converge\n",
            "  \"the coef_ did not converge\", ConvergenceWarning)\n",
            "/usr/local/lib/python3.6/dist-packages/sklearn/linear_model/_sag.py:330: ConvergenceWarning: The max_iter was reached which means the coef_ did not converge\n",
            "  \"the coef_ did not converge\", ConvergenceWarning)\n",
            "/usr/local/lib/python3.6/dist-packages/sklearn/linear_model/_sag.py:330: ConvergenceWarning: The max_iter was reached which means the coef_ did not converge\n",
            "  \"the coef_ did not converge\", ConvergenceWarning)\n",
            "/usr/local/lib/python3.6/dist-packages/sklearn/linear_model/_sag.py:330: ConvergenceWarning: The max_iter was reached which means the coef_ did not converge\n",
            "  \"the coef_ did not converge\", ConvergenceWarning)\n"
          ],
          "name": "stderr"
        },
        {
          "output_type": "stream",
          "text": [
            "[CV]  C=10, class_weight={0: 0.02165645563875651, 1: 0.32611451478708114, 2: 0.32611451478708114, 3: 0.32611451478708114}, score=0.410, total= 3.3min\n",
            "[CV] C=100, class_weight={0: 0.02165645563875651, 1: 0.32611451478708114, 2: 0.32611451478708114, 3: 0.32611451478708114} \n"
          ],
          "name": "stdout"
        },
        {
          "output_type": "stream",
          "text": [
            "/usr/local/lib/python3.6/dist-packages/sklearn/linear_model/_sag.py:330: ConvergenceWarning: The max_iter was reached which means the coef_ did not converge\n",
            "  \"the coef_ did not converge\", ConvergenceWarning)\n",
            "/usr/local/lib/python3.6/dist-packages/sklearn/linear_model/_sag.py:330: ConvergenceWarning: The max_iter was reached which means the coef_ did not converge\n",
            "  \"the coef_ did not converge\", ConvergenceWarning)\n",
            "/usr/local/lib/python3.6/dist-packages/sklearn/linear_model/_sag.py:330: ConvergenceWarning: The max_iter was reached which means the coef_ did not converge\n",
            "  \"the coef_ did not converge\", ConvergenceWarning)\n",
            "/usr/local/lib/python3.6/dist-packages/sklearn/linear_model/_sag.py:330: ConvergenceWarning: The max_iter was reached which means the coef_ did not converge\n",
            "  \"the coef_ did not converge\", ConvergenceWarning)\n"
          ],
          "name": "stderr"
        },
        {
          "output_type": "stream",
          "text": [
            "[CV]  C=100, class_weight={0: 0.02165645563875651, 1: 0.32611451478708114, 2: 0.32611451478708114, 3: 0.32611451478708114}, score=0.409, total= 3.1min\n",
            "[CV] C=100, class_weight={0: 0.02165645563875651, 1: 0.32611451478708114, 2: 0.32611451478708114, 3: 0.32611451478708114} \n"
          ],
          "name": "stdout"
        },
        {
          "output_type": "stream",
          "text": [
            "/usr/local/lib/python3.6/dist-packages/sklearn/linear_model/_sag.py:330: ConvergenceWarning: The max_iter was reached which means the coef_ did not converge\n",
            "  \"the coef_ did not converge\", ConvergenceWarning)\n",
            "/usr/local/lib/python3.6/dist-packages/sklearn/linear_model/_sag.py:330: ConvergenceWarning: The max_iter was reached which means the coef_ did not converge\n",
            "  \"the coef_ did not converge\", ConvergenceWarning)\n",
            "/usr/local/lib/python3.6/dist-packages/sklearn/linear_model/_sag.py:330: ConvergenceWarning: The max_iter was reached which means the coef_ did not converge\n",
            "  \"the coef_ did not converge\", ConvergenceWarning)\n",
            "/usr/local/lib/python3.6/dist-packages/sklearn/linear_model/_sag.py:330: ConvergenceWarning: The max_iter was reached which means the coef_ did not converge\n",
            "  \"the coef_ did not converge\", ConvergenceWarning)\n"
          ],
          "name": "stderr"
        },
        {
          "output_type": "stream",
          "text": [
            "[CV]  C=100, class_weight={0: 0.02165645563875651, 1: 0.32611451478708114, 2: 0.32611451478708114, 3: 0.32611451478708114}, score=0.405, total= 3.1min\n",
            "[CV] C=100, class_weight={0: 0.02165645563875651, 1: 0.32611451478708114, 2: 0.32611451478708114, 3: 0.32611451478708114} \n"
          ],
          "name": "stdout"
        },
        {
          "output_type": "stream",
          "text": [
            "/usr/local/lib/python3.6/dist-packages/sklearn/linear_model/_sag.py:330: ConvergenceWarning: The max_iter was reached which means the coef_ did not converge\n",
            "  \"the coef_ did not converge\", ConvergenceWarning)\n",
            "/usr/local/lib/python3.6/dist-packages/sklearn/linear_model/_sag.py:330: ConvergenceWarning: The max_iter was reached which means the coef_ did not converge\n",
            "  \"the coef_ did not converge\", ConvergenceWarning)\n",
            "/usr/local/lib/python3.6/dist-packages/sklearn/linear_model/_sag.py:330: ConvergenceWarning: The max_iter was reached which means the coef_ did not converge\n",
            "  \"the coef_ did not converge\", ConvergenceWarning)\n",
            "/usr/local/lib/python3.6/dist-packages/sklearn/linear_model/_sag.py:330: ConvergenceWarning: The max_iter was reached which means the coef_ did not converge\n",
            "  \"the coef_ did not converge\", ConvergenceWarning)\n"
          ],
          "name": "stderr"
        },
        {
          "output_type": "stream",
          "text": [
            "[CV]  C=100, class_weight={0: 0.02165645563875651, 1: 0.32611451478708114, 2: 0.32611451478708114, 3: 0.32611451478708114}, score=0.399, total= 3.1min\n",
            "[CV] C=100, class_weight={0: 0.02165645563875651, 1: 0.32611451478708114, 2: 0.32611451478708114, 3: 0.32611451478708114} \n"
          ],
          "name": "stdout"
        },
        {
          "output_type": "stream",
          "text": [
            "/usr/local/lib/python3.6/dist-packages/sklearn/linear_model/_sag.py:330: ConvergenceWarning: The max_iter was reached which means the coef_ did not converge\n",
            "  \"the coef_ did not converge\", ConvergenceWarning)\n",
            "/usr/local/lib/python3.6/dist-packages/sklearn/linear_model/_sag.py:330: ConvergenceWarning: The max_iter was reached which means the coef_ did not converge\n",
            "  \"the coef_ did not converge\", ConvergenceWarning)\n",
            "/usr/local/lib/python3.6/dist-packages/sklearn/linear_model/_sag.py:330: ConvergenceWarning: The max_iter was reached which means the coef_ did not converge\n",
            "  \"the coef_ did not converge\", ConvergenceWarning)\n",
            "/usr/local/lib/python3.6/dist-packages/sklearn/linear_model/_sag.py:330: ConvergenceWarning: The max_iter was reached which means the coef_ did not converge\n",
            "  \"the coef_ did not converge\", ConvergenceWarning)\n"
          ],
          "name": "stderr"
        },
        {
          "output_type": "stream",
          "text": [
            "[CV]  C=100, class_weight={0: 0.02165645563875651, 1: 0.32611451478708114, 2: 0.32611451478708114, 3: 0.32611451478708114}, score=0.404, total= 3.2min\n",
            "[CV] C=100, class_weight={0: 0.02165645563875651, 1: 0.32611451478708114, 2: 0.32611451478708114, 3: 0.32611451478708114} \n"
          ],
          "name": "stdout"
        },
        {
          "output_type": "stream",
          "text": [
            "/usr/local/lib/python3.6/dist-packages/sklearn/linear_model/_sag.py:330: ConvergenceWarning: The max_iter was reached which means the coef_ did not converge\n",
            "  \"the coef_ did not converge\", ConvergenceWarning)\n",
            "/usr/local/lib/python3.6/dist-packages/sklearn/linear_model/_sag.py:330: ConvergenceWarning: The max_iter was reached which means the coef_ did not converge\n",
            "  \"the coef_ did not converge\", ConvergenceWarning)\n",
            "/usr/local/lib/python3.6/dist-packages/sklearn/linear_model/_sag.py:330: ConvergenceWarning: The max_iter was reached which means the coef_ did not converge\n",
            "  \"the coef_ did not converge\", ConvergenceWarning)\n",
            "/usr/local/lib/python3.6/dist-packages/sklearn/linear_model/_sag.py:330: ConvergenceWarning: The max_iter was reached which means the coef_ did not converge\n",
            "  \"the coef_ did not converge\", ConvergenceWarning)\n",
            "[Parallel(n_jobs=1)]: Done  15 out of  15 | elapsed: 49.3min finished\n"
          ],
          "name": "stderr"
        },
        {
          "output_type": "stream",
          "text": [
            "[CV]  C=100, class_weight={0: 0.02165645563875651, 1: 0.32611451478708114, 2: 0.32611451478708114, 3: 0.32611451478708114}, score=0.410, total= 3.1min\n"
          ],
          "name": "stdout"
        },
        {
          "output_type": "stream",
          "text": [
            "/usr/local/lib/python3.6/dist-packages/sklearn/linear_model/_sag.py:330: ConvergenceWarning: The max_iter was reached which means the coef_ did not converge\n",
            "  \"the coef_ did not converge\", ConvergenceWarning)\n",
            "/usr/local/lib/python3.6/dist-packages/sklearn/linear_model/_sag.py:330: ConvergenceWarning: The max_iter was reached which means the coef_ did not converge\n",
            "  \"the coef_ did not converge\", ConvergenceWarning)\n",
            "/usr/local/lib/python3.6/dist-packages/sklearn/linear_model/_sag.py:330: ConvergenceWarning: The max_iter was reached which means the coef_ did not converge\n",
            "  \"the coef_ did not converge\", ConvergenceWarning)\n",
            "/usr/local/lib/python3.6/dist-packages/sklearn/linear_model/_sag.py:330: ConvergenceWarning: The max_iter was reached which means the coef_ did not converge\n",
            "  \"the coef_ did not converge\", ConvergenceWarning)\n"
          ],
          "name": "stderr"
        },
        {
          "output_type": "execute_result",
          "data": {
            "text/plain": [
              "GridSearchCV(cv=StratifiedKFold(n_splits=5, random_state=30, shuffle=True),\n",
              "             error_score=nan,\n",
              "             estimator=LogisticRegression(C=1.0, class_weight=None, dual=False,\n",
              "                                          fit_intercept=True,\n",
              "                                          intercept_scaling=1, l1_ratio=None,\n",
              "                                          max_iter=100, multi_class='ovr',\n",
              "                                          n_jobs=None, penalty='l1',\n",
              "                                          random_state=None, solver='saga',\n",
              "                                          tol=0.0001, verbose=0,\n",
              "                                          warm_start=False),\n",
              "             iid='deprecated', n_jobs=None,\n",
              "             param_grid={'C': [1, 10, 100],\n",
              "                         'class_weight': [{0: 0.02165645563875651,\n",
              "                                           1: 0.32611451478708114,\n",
              "                                           2: 0.32611451478708114,\n",
              "                                           3: 0.32611451478708114}]},\n",
              "             pre_dispatch='2*n_jobs', refit=True, return_train_score=False,\n",
              "             scoring=make_scorer(f1_score, average=macro), verbose=4)"
            ]
          },
          "metadata": {
            "tags": []
          },
          "execution_count": 80
        }
      ]
    },
    {
      "cell_type": "code",
      "metadata": {
        "colab": {
          "base_uri": "https://localhost:8080/"
        },
        "id": "yHcOsXucZL_5",
        "outputId": "5add0666-dc54-479e-c5b1-dda07e3ff0e3"
      },
      "source": [
        "best_lr_clf = print_grid_clf_summary(lr_grid_clf, lr_params_grid)"
      ],
      "execution_count": 81,
      "outputs": [
        {
          "output_type": "stream",
          "text": [
            "Best Score: 0.4055059423637036\n",
            "Best Parameters:\n",
            "\tC: 100\n",
            "\tclass_weight: {0: 0.02165645563875651, 1: 0.32611451478708114, 2: 0.32611451478708114, 3: 0.32611451478708114}\n"
          ],
          "name": "stdout"
        }
      ]
    },
    {
      "cell_type": "markdown",
      "metadata": {
        "id": "Mo5viAnZApsA"
      },
      "source": [
        "# Test Evaluation\r\n",
        "\r\n",
        "Evaluation Metric:\r\n",
        "\r\n",
        "> Macro averaged F1-Score to capture multi class prediction with class imbalance\r\n",
        "\r\n",
        "> Macro averaged One-vs-One ROC AUC score (which uses the predicted probabilities) -  To get an insight into correctness of predicted probabilites\r\n",
        "\r\n"
      ]
    },
    {
      "cell_type": "code",
      "metadata": {
        "id": "EbelXddgmUjT"
      },
      "source": [
        "def feature_extraction(data):\r\n",
        "    data[\"Is_Home_Team\"] = data.apply(check_hometeam, axis = 1)\r\n",
        "    data[\"Team_Score\"] = data.apply(get_team_score, axis = 1)\r\n",
        "    data[\"Team_Margin\"] = data.apply(get_team_margin, axis = 1)\r\n",
        "    data[\"Round_Cat\"] = data.apply(encode_round_order, axis = 1)\r\n",
        "\r\n",
        "    return data"
      ],
      "execution_count": 82,
      "outputs": []
    },
    {
      "cell_type": "code",
      "metadata": {
        "id": "hSt8UwMdOkr1"
      },
      "source": [
        "def raw_transformer(data):\r\n",
        "    return data\r\n",
        "\r\n",
        "def scale_poly_transformer(data):\r\n",
        "    scaled_data = scaler.transform(data)\r\n",
        "    return pf.transform(scaled_data)"
      ],
      "execution_count": 83,
      "outputs": []
    },
    {
      "cell_type": "code",
      "metadata": {
        "id": "gFa1dN4-Att0"
      },
      "source": [
        "def predict(data, evauation_grid_cv_models, predictors_list):\r\n",
        "    \r\n",
        "    raw_test_data = feature_extraction(data)\r\n",
        "    raw_test_data = raw_test_data[predictors_list]\r\n",
        "    true_labels = data[LABEL_FIELD_NAME]\r\n",
        "    performance_summary = {}\r\n",
        "\r\n",
        "    for model_label, (grid_cv_clf, data_transformer) in evauation_grid_cv_models.items():\r\n",
        "        best_model = grid_cv_clf.best_estimator_\r\n",
        "        test_data = data_transformer(raw_test_data)\r\n",
        "        \r\n",
        "        test_predictions = best_model.predict(test_data)\r\n",
        "        test_prediction_probs = best_model.predict_proba(test_data)\r\n",
        "\r\n",
        "        f1_score_val = f1_score(true_labels, test_predictions, average='macro')\r\n",
        "        roc_auc_score_val = roc_auc_score(true_labels, test_prediction_probs, multi_class='ovo', average = 'macro')\r\n",
        "            \r\n",
        "        print(\"Model - {0} \\n\\t CV-Score - {1} \\n\\t Test F1-Score: {2}, Test ROC AUC Score: {3}\".format(\r\n",
        "            model_label,\r\n",
        "            grid_cv_clf.best_score_,\r\n",
        "            f1_score_val, roc_auc_score_val))\r\n",
        "        \r\n",
        "        print(\"\\n===========================================================================================================\\n\")\r\n",
        "        \r\n",
        "        performance_summary[model_label] = {\r\n",
        "            \"CV-Score\": grid_cv_clf.best_score_,\r\n",
        "            \"Test F1-Score\": f1_score_val,\r\n",
        "            \"Test ROC AUC Score\": roc_auc_score_val\r\n",
        "            }\r\n",
        "        \r\n",
        "    return performance_summary"
      ],
      "execution_count": 90,
      "outputs": []
    },
    {
      "cell_type": "code",
      "metadata": {
        "id": "ABuWftSUU7hV"
      },
      "source": [
        "models = {\r\n",
        "    \"Random Forest without class weights\": (rf_grid_clf, raw_transformer),\r\n",
        "    \"Random Forest using class weights\": (rf_wt_grid_clf, raw_transformer),\r\n",
        "    \"Logistic Regression using class weights\": (lr_grid_clf, scale_poly_transformer)\r\n",
        "    }"
      ],
      "execution_count": 91,
      "outputs": []
    },
    {
      "cell_type": "code",
      "metadata": {
        "colab": {
          "base_uri": "https://localhost:8080/"
        },
        "id": "vFurIwc42a6k",
        "outputId": "739abfd4-093d-436d-89ca-21d1494a1d9c"
      },
      "source": [
        "predict(AFL_Test, models, full_features)"
      ],
      "execution_count": 92,
      "outputs": [
        {
          "output_type": "stream",
          "text": [
            "Model - Random Forest without class weights \n",
            "\t CV-Score - 0.3476742316967868 \n",
            "\t Test F1-Score: 0.36037104981653056, Test ROC AUC Score: 0.7456753006242111\n",
            "\n",
            "===========================================================================================================\n",
            "\n",
            "Model - Random Forest using class weights \n",
            "\t CV-Score - 0.4086420545946708 \n",
            "\t Test F1-Score: 0.40111241972992173, Test ROC AUC Score: 0.7755825599205313\n",
            "\n",
            "===========================================================================================================\n",
            "\n",
            "Model - Logistic Regression using class weights \n",
            "\t CV-Score - 0.4055059423637036 \n",
            "\t Test F1-Score: 0.40646259384914907, Test ROC AUC Score: 0.7787685244022294\n",
            "\n",
            "===========================================================================================================\n",
            "\n"
          ],
          "name": "stdout"
        },
        {
          "output_type": "execute_result",
          "data": {
            "text/plain": [
              "{'Logistic Regression using class weights': {'CV-Score': 0.4055059423637036,\n",
              "  'Test F1-Score': 0.40646259384914907,\n",
              "  'Test ROC AUC Score': 0.7787685244022294},\n",
              " 'Random Forest using class weights': {'CV-Score': 0.4086420545946708,\n",
              "  'Test F1-Score': 0.40111241972992173,\n",
              "  'Test ROC AUC Score': 0.7755825599205313},\n",
              " 'Random Forest without class weights': {'CV-Score': 0.3476742316967868,\n",
              "  'Test F1-Score': 0.36037104981653056,\n",
              "  'Test ROC AUC Score': 0.7456753006242111}}"
            ]
          },
          "metadata": {
            "tags": []
          },
          "execution_count": 92
        }
      ]
    },
    {
      "cell_type": "markdown",
      "metadata": {
        "id": "uhXCQdPOZ39X"
      },
      "source": [
        "# Summary\r\n",
        "\r\n",
        "The classifier that uses class weights to account for the data imbalance work better in general. The ROC score indicates that prediction probabilities are more reliable and better thresholding needs to be tuned to make actual class predictions.\r\n",
        "\r\n",
        "\r\n",
        "\r\n",
        "---\r\n",
        "\r\n",
        "\r\n",
        "Further improvement can be done by:\r\n",
        "Normalizing the each player's statistics grouped over a particular game.\r\n",
        "E.g. Match 1 played between \"Richmond\" and \"Greater Sydney Area\", we can account for all the goals scored in that match and scale each player's goal statistic by 1 / total goals in match. Similar operation can be performed for every other attribute.\r\n",
        "\r\n",
        "The intuition behind the approach is, certain matches can be high scoring and many players may score relatively higher than certain low scoring matches. But scaling the statistics to account for a match would remove this bias.\r\n",
        "\r\n",
        "In order to predict based on this data modification, the complete records of all players involved in the match have to be provided to the model. Only then can the appropriate scaling be performed before predicting."
      ]
    }
  ]
}